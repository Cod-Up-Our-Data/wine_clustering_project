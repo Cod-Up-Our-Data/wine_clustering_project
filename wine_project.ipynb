{
 "cells": [
  {
   "cell_type": "markdown",
   "id": "be5ef4ff-788a-4cd5-93ca-519abce2fa8d",
   "metadata": {},
   "source": [
    "# Predicting Wine Quality"
   ]
  },
  {
   "cell_type": "markdown",
   "id": "63b9cbb5-f7fc-427c-9aff-4c36753cb1c6",
   "metadata": {},
   "source": [
    "* Rich Alcabes\n",
    "* Garrett Arnett\n"
   ]
  },
  {
   "cell_type": "markdown",
   "id": "d60eb6ab-ac73-453e-addd-83fe44d1da36",
   "metadata": {},
   "source": [
    "## Our Goal"
   ]
  },
  {
   "cell_type": "markdown",
   "id": "2c030afb-0d87-4331-9bad-3f8a3a093506",
   "metadata": {},
   "source": [
    "* Create a REGRESSION model which will assign Quality_Score predictions to an unseen set of wines based upon specific drivers such as, alcohol content, volatile_acidity, chlorides, sulfates, etc..."
   ]
  },
  {
   "cell_type": "markdown",
   "id": "845a159f-6b28-4f9e-ab88-b952b3ffdd75",
   "metadata": {},
   "source": [
    "## Our Plan"
   ]
  },
  {
   "cell_type": "markdown",
   "id": "ccf809a6-fae3-443d-aba2-40b99e965429",
   "metadata": {},
   "source": [
    "* Plan: Questions and Hypotheses\n",
    "* Acquire: Obtain two distinct datasets (red wines/white wines) from https://data.world/food/wine-quality and combine both into a single datset with an attribute which indicates the wine_color.\n",
    "* Prepare: Kept outliers, missingness was a non-issue, as there were ZERO entries containing NULL values for predictors. Split into ML subsets (Train/Validate/Test).\n",
    "* Explore: Univariate and multi-variate analysis, correlation matrix, 2D and 3D visualization, correlation significance testing, 1-sample T-testing, K-Means clustering to discover meaningful sample segments (with associated MinMaxScaling).\n",
    "* Model: With dataset scaled via MinMaxScaler, Initially, create an MVP model which is a Vanilla Multiple Linear Regression model specifically using ALCOHOL/DENSITY/VOLATILE_ACIDITY. Experiment with OLS Model hyperparameters\n",
    "* Deliver: Please refer to this doc as well as the Final_Report.ipynb file for the finished version of the presentation, in addition to a brief 5-min presentation to the DS Team."
   ]
  },
  {
   "cell_type": "markdown",
   "id": "3f84ecaf-e809-4c91-8329-11443b8d74b3",
   "metadata": {},
   "source": [
    "## Imports"
   ]
  },
  {
   "cell_type": "code",
   "execution_count": 7,
   "id": "6285b98d-a438-4108-9a54-7b6e07592b1c",
   "metadata": {},
   "outputs": [
    {
     "ename": "NameError",
     "evalue": "name 'train' is not defined",
     "output_type": "error",
     "traceback": [
      "\u001b[0;31m---------------------------------------------------------------------------\u001b[0m",
      "\u001b[0;31mNameError\u001b[0m                                 Traceback (most recent call last)",
      "\u001b[0;32m/var/folders/f5/r0cvcy8d6bl6nqmwjp01nhjh0000gn/T/ipykernel_24495/906743866.py\u001b[0m in \u001b[0;36m<module>\u001b[0;34m\u001b[0m\n\u001b[1;32m     27\u001b[0m \u001b[0;31m# python files\u001b[0m\u001b[0;34m\u001b[0m\u001b[0;34m\u001b[0m\u001b[0m\n\u001b[1;32m     28\u001b[0m \u001b[0;32mimport\u001b[0m \u001b[0mfinal_wrangle\u001b[0m \u001b[0;32mas\u001b[0m \u001b[0mwr\u001b[0m\u001b[0;34m\u001b[0m\u001b[0;34m\u001b[0m\u001b[0m\n\u001b[0;32m---> 29\u001b[0;31m \u001b[0;32mimport\u001b[0m \u001b[0mfinal_modeling\u001b[0m \u001b[0;32mas\u001b[0m \u001b[0mmo\u001b[0m\u001b[0;34m\u001b[0m\u001b[0;34m\u001b[0m\u001b[0m\n\u001b[0m\u001b[1;32m     30\u001b[0m \u001b[0;31m# ignore warnings\u001b[0m\u001b[0;34m\u001b[0m\u001b[0;34m\u001b[0m\u001b[0m\n\u001b[1;32m     31\u001b[0m \u001b[0;32mimport\u001b[0m \u001b[0mwarnings\u001b[0m\u001b[0;34m\u001b[0m\u001b[0;34m\u001b[0m\u001b[0m\n",
      "\u001b[0;32m~/codeup-data-science/wine_clustering_project/final_modeling.py\u001b[0m in \u001b[0;36m<module>\u001b[0;34m\u001b[0m\n\u001b[1;32m    102\u001b[0m \u001b[0;34m\u001b[0m\u001b[0m\n\u001b[1;32m    103\u001b[0m \u001b[0;34m\u001b[0m\u001b[0m\n\u001b[0;32m--> 104\u001b[0;31m \u001b[0mX_train\u001b[0m\u001b[0;34m,\u001b[0m \u001b[0mX_validate\u001b[0m\u001b[0;34m,\u001b[0m \u001b[0mX_test\u001b[0m\u001b[0;34m,\u001b[0m \u001b[0my_train\u001b[0m\u001b[0;34m,\u001b[0m \u001b[0my_validate\u001b[0m\u001b[0;34m,\u001b[0m \u001b[0my_test\u001b[0m \u001b[0;34m=\u001b[0m \u001b[0mfull_split_wines\u001b[0m\u001b[0;34m(\u001b[0m\u001b[0mtrain\u001b[0m\u001b[0;34m,\u001b[0m \u001b[0mvalidate\u001b[0m\u001b[0;34m,\u001b[0m \u001b[0mtest\u001b[0m\u001b[0;34m,\u001b[0m \u001b[0mtarget\u001b[0m\u001b[0;34m)\u001b[0m\u001b[0;34m\u001b[0m\u001b[0;34m\u001b[0m\u001b[0m\n\u001b[0m\u001b[1;32m    105\u001b[0m \u001b[0;34m\u001b[0m\u001b[0m\n\u001b[1;32m    106\u001b[0m \u001b[0;34m\u001b[0m\u001b[0m\n",
      "\u001b[0;31mNameError\u001b[0m: name 'train' is not defined"
     ]
    }
   ],
   "source": [
    "import numpy as np\n",
    "import pandas as pd\n",
    "import matplotlib.pyplot as plt\n",
    "import seaborn as sns\n",
    "sns.color_palette(\"tab10\")\n",
    "from scipy import stats\n",
    "from sklearn.model_selection import train_test_split\n",
    "import os\n",
    "from sklearn.feature_selection import SelectKBest, RFE, f_regression, SequentialFeatureSelector\n",
    "from sklearn.preprocessing import MinMaxScaler, StandardScaler, PolynomialFeatures\n",
    "from sklearn.metrics import mean_squared_error, r2_score, explained_variance_score\n",
    "from sklearn.linear_model import LinearRegression, TweedieRegressor, LassoLars\n",
    "from sklearn.metrics import explained_variance_score\n",
    "from sklearn.ensemble import RandomForestRegressor, GradientBoostingRegressor\n",
    "from sklearn.svm import SVR\n",
    "from sklearn.feature_selection import SelectKBest, RFE, f_regression, SequentialFeatureSelector\n",
    "from sklearn.preprocessing import QuantileTransformer\n",
    "from sklearn.preprocessing import StandardScaler\n",
    "from sklearn.pipeline import Pipeline\n",
    "from sklearn.tree import DecisionTreeRegressor\n",
    "from sklearn.metrics import mean_squared_error, r2_score\n",
    "import pandas as pd\n",
    "from sklearn.feature_selection import SelectKBest, RFE, f_regression\n",
    "from sklearn.linear_model import LinearRegression\n",
    "seed = 1349\n",
    "target = 'quality'\n",
    "# python files\n",
    "import final_wrangle as wr\n",
    "import final_modeling as mo\n",
    "# ignore warnings\n",
    "import warnings\n",
    "warnings.filterwarnings(\"ignore\")\n",
    "from importlib import reload\n"
   ]
  },
  {
   "cell_type": "markdown",
   "id": "70b3c71d-69a5-4c5d-94f1-f813e816cb23",
   "metadata": {},
   "source": [
    "## Acquire and Data Preperation\n",
    "\n",
    "* \n",
    "*"
   ]
  },
  {
   "cell_type": "code",
   "execution_count": 6,
   "id": "63326be5-a0fe-47a7-803c-91c8db819a50",
   "metadata": {},
   "outputs": [
    {
     "ename": "NameError",
     "evalue": "name 'wrange' is not defined",
     "output_type": "error",
     "traceback": [
      "\u001b[0;31m---------------------------------------------------------------------------\u001b[0m",
      "\u001b[0;31mNameError\u001b[0m                                 Traceback (most recent call last)",
      "\u001b[0;32m/var/folders/f5/r0cvcy8d6bl6nqmwjp01nhjh0000gn/T/ipykernel_24495/1215728206.py\u001b[0m in \u001b[0;36m<module>\u001b[0;34m\u001b[0m\n\u001b[0;32m----> 1\u001b[0;31m \u001b[0mwrange\u001b[0m\u001b[0;34m(\u001b[0m\u001b[0;34m)\u001b[0m\u001b[0;34m\u001b[0m\u001b[0;34m\u001b[0m\u001b[0m\n\u001b[0m",
      "\u001b[0;31mNameError\u001b[0m: name 'wrange' is not defined"
     ]
    }
   ],
   "source": [
    "wrange()"
   ]
  },
  {
   "cell_type": "code",
   "execution_count": null,
   "id": "9c16e689-43c3-4caf-848d-d4305912744b",
   "metadata": {},
   "outputs": [],
   "source": []
  },
  {
   "cell_type": "markdown",
   "id": "8bc6a90c-ecc8-4388-8401-c376a5af5b4b",
   "metadata": {
    "tags": []
   },
   "source": [
    "#### Steps taken to Prepare\n",
    "\n",
    "* \n",
    "* \n",
    "* \n",
    "\n",
    "#### Results and Notes\n",
    "\n",
    "* \n",
    "* "
   ]
  },
  {
   "cell_type": "markdown",
   "id": "6a40b107-61fd-4130-af8d-d4ec436553d5",
   "metadata": {},
   "source": [
    "|Feature |  Data type | Definition |\n",
    "|---|---|---|\n",
    "| alcohol: | float | measured as percentage |\n",
    "| volatile_acidity: | float | greater values indicate vinegar-like taste |\n",
    "| sulphates: | float | additive with antimicrobial/antioxidant properties |\n",
    "| citric_acid: | float | a preservative with capacity to add flavor |\n",
    "| total_SO2: | float | includes free_SO2 |\n",
    "| density: | float | an indication of sugar/alcohol content |\n",
    "| chlorides: | float | amount of salts present |\n",
    "| fixed_acidity: | float | non-volatile acids not subject to evaporation |\n",
    "| ph: | float | acidity-base measurement |\n",
    "| free_SO2: | float | antimicrobial/antioxidant properties |\n",
    "| residual_sugar: | float | measured to indicate sweetness |\n",
    "| wine_color: | int | 1-Red / 0-White |\n",
    "| quality: | int | TARGET: rating given by a wine-tasting professional |"
   ]
  },
  {
   "cell_type": "markdown",
   "id": "77c17f90-f81e-4176-923e-20b479b6cf70",
   "metadata": {},
   "source": [
    "## Explore"
   ]
  },
  {
   "cell_type": "markdown",
   "id": "b7acbe43-93ac-457a-98c3-708c77c2b869",
   "metadata": {},
   "source": [
    "### 1.\n"
   ]
  },
  {
   "cell_type": "code",
   "execution_count": 2,
   "id": "36873918-8d9a-487d-8a7f-c7da0cc4ff8a",
   "metadata": {},
   "outputs": [],
   "source": [
    "## Grapg"
   ]
  },
  {
   "cell_type": "markdown",
   "id": "e0fc35df-7155-4927-9ac9-c72273ff3e3f",
   "metadata": {},
   "source": [
    "explanation"
   ]
  },
  {
   "cell_type": "markdown",
   "id": "3120ceca-764c-40bc-8063-fee1fa940195",
   "metadata": {},
   "source": [
    "### 2. \n"
   ]
  },
  {
   "cell_type": "code",
   "execution_count": 3,
   "id": "d1c5816a-8e6d-4e7c-847c-9808c6391786",
   "metadata": {},
   "outputs": [],
   "source": [
    "# graph\n"
   ]
  },
  {
   "cell_type": "markdown",
   "id": "07c62764-ef38-4042-ac0e-48c34c9d61e8",
   "metadata": {},
   "source": [
    "We see that LA counties are below the averages for median and mean. I want to confirm the price difference is significant.\n",
    "\n",
    "$H_0$: There is no significant difference between home_value in different county_name counties.\n",
    "\n",
    "$H_a$: There is a significant difference between home_value in different county_name counties."
   ]
  },
  {
   "cell_type": "code",
   "execution_count": 6,
   "id": "f1e39f70-6a71-4188-869e-60d07aaa9233",
   "metadata": {},
   "outputs": [
    {
     "name": "stdout",
     "output_type": "stream",
     "text": [
      "Variances are different. Use an non-parametric Kruskal-Wallis test.\n",
      "\n",
      "We reject the null hypothesis.\n",
      "There is a significant difference in home prices in different counties.\n"
     ]
    }
   ],
   "source": [
    "# running stat test\n",
    "ex.counties_test(train)"
   ]
  },
  {
   "cell_type": "markdown",
   "id": "c508d371-5037-4547-9780-80d6c4bc4e83",
   "metadata": {},
   "source": [
    "## 3. "
   ]
  },
  {
   "cell_type": "code",
   "execution_count": 4,
   "id": "cfb5b330-4207-453b-971d-5b9aaafc6bbd",
   "metadata": {},
   "outputs": [],
   "source": [
    "#gragh"
   ]
  },
  {
   "cell_type": "markdown",
   "id": "6a600a74-4379-44c8-a162-b33815d3cb3c",
   "metadata": {},
   "source": [
    "There is a stong positive coorelation between the price of the hosue and the square footage. Lets Confirm:\n",
    "\n",
    "$H_0$: There is no linear correlation between home_value and sq_feet\n",
    "\n",
    "$H_a$: There is a linear correlation between home_value and sq_feet"
   ]
  },
  {
   "cell_type": "code",
   "execution_count": 8,
   "id": "fef384a8-43fd-476e-8df6-585fede92131",
   "metadata": {},
   "outputs": [
    {
     "name": "stdout",
     "output_type": "stream",
     "text": [
      "We reject the null hypothesis.\n",
      "There is a linear correlation between home price and its size(square feet)\n",
      "The correlation coefficient is 0.5\n",
      "LA       correlation coefficient is  0.43\n",
      "\n",
      "Ventura  correlation coefficient is  0.64\n",
      "\n",
      "Orange   correlation coefficient is  0.57\n",
      "\n"
     ]
    }
   ],
   "source": [
    "# run the test\n",
    "ex.sqfeet_test(train) "
   ]
  },
  {
   "cell_type": "markdown",
   "id": "5150acf1-3b92-472e-9b26-bb154ea786c9",
   "metadata": {},
   "source": [
    "## Explore Takaways"
   ]
  },
  {
   "cell_type": "markdown",
   "id": "f2b3ab50-fe2f-4cbd-974a-3185e0107ba9",
   "metadata": {},
   "source": [
    "*\n",
    "*\n",
    "*\n",
    "*"
   ]
  },
  {
   "cell_type": "markdown",
   "id": "dc0823e7-df57-483b-aca7-f08ed4d46a40",
   "metadata": {},
   "source": [
    "Based on my results, I cannot discover many strong coorelations with the price in LA county versus the others. I will expect price predictions for LA county to pull all of my preditcion results down. "
   ]
  },
  {
   "cell_type": "markdown",
   "id": "31270abb-9605-4752-9520-fc2b2c20a210",
   "metadata": {},
   "source": [
    "## Modeling"
   ]
  },
  {
   "cell_type": "markdown",
   "id": "4e553bf8-e0bf-4bdb-ad5c-a98b6f678324",
   "metadata": {},
   "source": [
    "## How I create models\n",
    "\n",
    "I use six different regressors:\n",
    "\n",
    "* Single and Multiple Linear Regressions with default hyperparameters\n",
    "* Generalized Linear Model (TweedieRegressor) with alpha=0.5 and power=2\n",
    "* Lasso Lars algorithm with alpha=0.1\n",
    "* Gradient Boosting Regressor with default hyperparameters\n",
    "* Decision Tree Regressor with max_depth=4\n",
    "* Random Forest Regressor with max_depth=4\n",
    "\n",
    "I have created manualy five different feature combinations, added 2 combinations with SelectKBest algorithm and added all columns in the last feature combination. In different iterations I used StandardScaler, QuantileTransformer, PolynomialFeatures and I've made one iteration with RFE (recursive feature elimination). All tools used from thesklearn library. Overall my code generated 128 different models."
   ]
  },
  {
   "cell_type": "markdown",
   "id": "f9b770df-188b-4f5d-90cc-7fb7be598bb7",
   "metadata": {},
   "source": [
    "#### Root mean squared error\n",
    "To evaluate the performance of the regression models I'm going to use the RMSE score.\n",
    "\n",
    "Our data contains outliers. The difference betweence between the mean and median values is around $80K. That's why I decided to use the median value as my baseline model."
   ]
  },
  {
   "cell_type": "code",
   "execution_count": 9,
   "id": "f474c2ec-383f-4755-a3b5-dbe3b44d4931",
   "metadata": {},
   "outputs": [],
   "source": [
    "# run all models\n",
    "# the results are stored in the md.scores data frame.\n",
    "# this function also writes an *.csv file with the scores\n",
    "md.run_all_models()"
   ]
  },
  {
   "cell_type": "code",
   "execution_count": 10,
   "id": "ce9fa663-291d-40b2-8f2f-5adcd95a4ec8",
   "metadata": {},
   "outputs": [
    {
     "data": {
      "text/html": [
       "<div>\n",
       "<style scoped>\n",
       "    .dataframe tbody tr th:only-of-type {\n",
       "        vertical-align: middle;\n",
       "    }\n",
       "\n",
       "    .dataframe tbody tr th {\n",
       "        vertical-align: top;\n",
       "    }\n",
       "\n",
       "    .dataframe thead th {\n",
       "        text-align: right;\n",
       "    }\n",
       "</style>\n",
       "<table border=\"1\" class=\"dataframe\">\n",
       "  <thead>\n",
       "    <tr style=\"text-align: right;\">\n",
       "      <th></th>\n",
       "      <th>model_name</th>\n",
       "      <th>features</th>\n",
       "      <th>scaling</th>\n",
       "      <th>RMSE_train</th>\n",
       "      <th>R2_train</th>\n",
       "      <th>RMSE_validate</th>\n",
       "      <th>R2_validate</th>\n",
       "      <th>RMSE_difference</th>\n",
       "    </tr>\n",
       "  </thead>\n",
       "  <tbody>\n",
       "    <tr>\n",
       "      <th>104</th>\n",
       "      <td>Gradient Boosting Regression</td>\n",
       "      <td>poly1</td>\n",
       "      <td>standard</td>\n",
       "      <td>169112</td>\n",
       "      <td>0.670</td>\n",
       "      <td>202127</td>\n",
       "      <td>0.580</td>\n",
       "      <td>33015</td>\n",
       "    </tr>\n",
       "    <tr>\n",
       "      <th>92</th>\n",
       "      <td>Gradient Boosting Regression</td>\n",
       "      <td>f8</td>\n",
       "      <td>quantile</td>\n",
       "      <td>169469</td>\n",
       "      <td>0.670</td>\n",
       "      <td>202933</td>\n",
       "      <td>0.580</td>\n",
       "      <td>33464</td>\n",
       "    </tr>\n",
       "    <tr>\n",
       "      <th>44</th>\n",
       "      <td>Gradient Boosting Regression</td>\n",
       "      <td>f8</td>\n",
       "      <td>standard</td>\n",
       "      <td>169469</td>\n",
       "      <td>0.670</td>\n",
       "      <td>203041</td>\n",
       "      <td>0.580</td>\n",
       "      <td>33572</td>\n",
       "    </tr>\n",
       "    <tr>\n",
       "      <th>116</th>\n",
       "      <td>Gradient Boosting Regression</td>\n",
       "      <td>poly3</td>\n",
       "      <td>standard</td>\n",
       "      <td>166907</td>\n",
       "      <td>0.680</td>\n",
       "      <td>203109</td>\n",
       "      <td>0.580</td>\n",
       "      <td>36202</td>\n",
       "    </tr>\n",
       "    <tr>\n",
       "      <th>98</th>\n",
       "      <td>Gradient Boosting Regression</td>\n",
       "      <td>rfe</td>\n",
       "      <td>standard</td>\n",
       "      <td>169033</td>\n",
       "      <td>0.670</td>\n",
       "      <td>204201</td>\n",
       "      <td>0.570</td>\n",
       "      <td>35168</td>\n",
       "    </tr>\n",
       "  </tbody>\n",
       "</table>\n",
       "</div>"
      ],
      "text/plain": [
       "                       model_name features   scaling  RMSE_train  R2_train  \\\n",
       "104  Gradient Boosting Regression    poly1  standard      169112     0.670   \n",
       "92   Gradient Boosting Regression       f8  quantile      169469     0.670   \n",
       "44   Gradient Boosting Regression       f8  standard      169469     0.670   \n",
       "116  Gradient Boosting Regression    poly3  standard      166907     0.680   \n",
       "98   Gradient Boosting Regression      rfe  standard      169033     0.670   \n",
       "\n",
       "     RMSE_validate  R2_validate  RMSE_difference  \n",
       "104         202127        0.580            33015  \n",
       "92          202933        0.580            33464  \n",
       "44          203041        0.580            33572  \n",
       "116         203109        0.580            36202  \n",
       "98          204201        0.570            35168  "
      ]
     },
     "metadata": {},
     "output_type": "display_data"
    }
   ],
   "source": [
    "# top 5 models\n",
    "best_model = md.select_best_model(md.scores)"
   ]
  },
  {
   "cell_type": "code",
   "execution_count": 11,
   "id": "0f297ae5-9e28-4d40-a72c-6163bd20dd94",
   "metadata": {},
   "outputs": [
    {
     "data": {
      "text/html": [
       "<div>\n",
       "<style scoped>\n",
       "    .dataframe tbody tr th:only-of-type {\n",
       "        vertical-align: middle;\n",
       "    }\n",
       "\n",
       "    .dataframe tbody tr th {\n",
       "        vertical-align: top;\n",
       "    }\n",
       "\n",
       "    .dataframe thead th {\n",
       "        text-align: right;\n",
       "    }\n",
       "</style>\n",
       "<table border=\"1\" class=\"dataframe\">\n",
       "  <thead>\n",
       "    <tr style=\"text-align: right;\">\n",
       "      <th></th>\n",
       "      <th>model_name</th>\n",
       "      <th>features</th>\n",
       "      <th>scaling</th>\n",
       "      <th>RMSE_train</th>\n",
       "      <th>R2_train</th>\n",
       "      <th>RMSE_validate</th>\n",
       "      <th>R2_validate</th>\n",
       "      <th>RMSE_difference</th>\n",
       "    </tr>\n",
       "  </thead>\n",
       "  <tbody>\n",
       "    <tr>\n",
       "      <th>104</th>\n",
       "      <td>Gradient Boosting Regression</td>\n",
       "      <td>poly1</td>\n",
       "      <td>standard</td>\n",
       "      <td>169112</td>\n",
       "      <td>0.670</td>\n",
       "      <td>202127</td>\n",
       "      <td>0.580</td>\n",
       "      <td>33015</td>\n",
       "    </tr>\n",
       "  </tbody>\n",
       "</table>\n",
       "</div>"
      ],
      "text/plain": [
       "                       model_name features   scaling  RMSE_train  R2_train  \\\n",
       "104  Gradient Boosting Regression    poly1  standard      169112     0.670   \n",
       "\n",
       "     RMSE_validate  R2_validate  RMSE_difference  \n",
       "104         202127        0.580            33015  "
      ]
     },
     "execution_count": 11,
     "metadata": {},
     "output_type": "execute_result"
    }
   ],
   "source": [
    "best_model"
   ]
  },
  {
   "cell_type": "markdown",
   "id": "9aeeac4c-0e38-4391-bd62-98a6d4bbd4e0",
   "metadata": {},
   "source": [
    "Our Best model is Gradient Boosting Regression"
   ]
  },
  {
   "cell_type": "code",
   "execution_count": 13,
   "id": "a0168809-4498-49b5-ab0f-2ea6eca6e8c2",
   "metadata": {},
   "outputs": [
    {
     "name": "stdout",
     "output_type": "stream",
     "text": [
      "['bedrooms', 'bathrooms', 'sq_feet', 'lot_sqft', 'house_age', 'pools']\n"
     ]
    },
    {
     "data": {
      "text/html": [
       "<div>\n",
       "<style scoped>\n",
       "    .dataframe tbody tr th:only-of-type {\n",
       "        vertical-align: middle;\n",
       "    }\n",
       "\n",
       "    .dataframe tbody tr th {\n",
       "        vertical-align: top;\n",
       "    }\n",
       "\n",
       "    .dataframe thead th {\n",
       "        text-align: right;\n",
       "    }\n",
       "</style>\n",
       "<table border=\"1\" class=\"dataframe\">\n",
       "  <thead>\n",
       "    <tr style=\"text-align: right;\">\n",
       "      <th></th>\n",
       "      <th>Gradient Bosting Regression</th>\n",
       "      <th>Scores</th>\n",
       "    </tr>\n",
       "  </thead>\n",
       "  <tbody>\n",
       "    <tr>\n",
       "      <th>0</th>\n",
       "      <td>Features</td>\n",
       "      <td>['bedrooms', 'bathrooms', 'sq_feet', 'lot_sqft...</td>\n",
       "    </tr>\n",
       "    <tr>\n",
       "      <th>1</th>\n",
       "      <td>RMSE baseline</td>\n",
       "      <td>292815</td>\n",
       "    </tr>\n",
       "    <tr>\n",
       "      <th>2</th>\n",
       "      <td>RMSE Train Set</td>\n",
       "      <td>169469</td>\n",
       "    </tr>\n",
       "    <tr>\n",
       "      <th>3</th>\n",
       "      <td>RMSE Validation Set</td>\n",
       "      <td>203062</td>\n",
       "    </tr>\n",
       "    <tr>\n",
       "      <th>4</th>\n",
       "      <td>RMSE Test Set</td>\n",
       "      <td>195952</td>\n",
       "    </tr>\n",
       "    <tr>\n",
       "      <th>5</th>\n",
       "      <td>R2 Train Set</td>\n",
       "      <td>0.670</td>\n",
       "    </tr>\n",
       "    <tr>\n",
       "      <th>6</th>\n",
       "      <td>R2 Validation Set</td>\n",
       "      <td>0.580</td>\n",
       "    </tr>\n",
       "    <tr>\n",
       "      <th>7</th>\n",
       "      <td>R2 Test</td>\n",
       "      <td>0.540</td>\n",
       "    </tr>\n",
       "    <tr>\n",
       "      <th>8</th>\n",
       "      <td>Beats a basline by:</td>\n",
       "      <td>33.1%</td>\n",
       "    </tr>\n",
       "  </tbody>\n",
       "</table>\n",
       "</div>"
      ],
      "text/plain": [
       "  Gradient Bosting Regression  \\\n",
       "0                    Features   \n",
       "1               RMSE baseline   \n",
       "2              RMSE Train Set   \n",
       "3         RMSE Validation Set   \n",
       "4               RMSE Test Set   \n",
       "5                R2 Train Set   \n",
       "6           R2 Validation Set   \n",
       "7                     R2 Test   \n",
       "8         Beats a basline by:   \n",
       "\n",
       "                                              Scores  \n",
       "0  ['bedrooms', 'bathrooms', 'sq_feet', 'lot_sqft...  \n",
       "1                                             292815  \n",
       "2                                             169469  \n",
       "3                                             203062  \n",
       "4                                             195952  \n",
       "5                                              0.670  \n",
       "6                                              0.580  \n",
       "7                                              0.540  \n",
       "8                                              33.1%  "
      ]
     },
     "execution_count": 13,
     "metadata": {},
     "output_type": "execute_result"
    }
   ],
   "source": [
    "# show the model performance scores\n",
    "md.run_best_model()"
   ]
  },
  {
   "cell_type": "markdown",
   "id": "bb15c082-9589-461a-9353-891c183a21c2",
   "metadata": {},
   "source": [
    "Our winning model beat our baseline by 33.1%."
   ]
  },
  {
   "cell_type": "markdown",
   "id": "aee46e50-946c-4459-9543-c3692859eb14",
   "metadata": {},
   "source": [
    "## Modeling summary\n",
    "\n",
    "Observation of prediction results led me to the following conclusions:\n",
    "\n",
    "* Gradient Boosting Regressor performed the best with our data set\n",
    "* Gradient Boosting Regressor is a good model in terms of prediction but doesn't return stable results. The RMSE scores vary a lot in all 3 sets.\n",
    "* Scaling type didn't affect the regression model's performance.\n",
    "\n"
   ]
  },
  {
   "cell_type": "markdown",
   "id": "0ab5a2b8-3962-4750-aa2e-c884feac42e0",
   "metadata": {},
   "source": [
    "# Conclusions"
   ]
  },
  {
   "cell_type": "markdown",
   "id": "4016ae94-a6dd-449e-967c-669c952a7de9",
   "metadata": {},
   "source": [
    "* Overall my regression model performs good. Its predictions beat the baseline model by 33.1%\n",
    "* For more stable results I would pick Random Forest Regressor or Lasso Lars Regressor.\n",
    "\n",
    "# Next Steps\n",
    "\n",
    "* To imporove prediction results I would recommend to pull more features from the database and look for the ones that have a strong correlation with the price in LA county.\n",
    "\n",
    "* Also I would focus on making a model that is more stable than the current."
   ]
  }
 ],
 "metadata": {
  "kernelspec": {
   "display_name": "Python 3 (ipykernel)",
   "language": "python",
   "name": "python3"
  },
  "language_info": {
   "codemirror_mode": {
    "name": "ipython",
    "version": 3
   },
   "file_extension": ".py",
   "mimetype": "text/x-python",
   "name": "python",
   "nbconvert_exporter": "python",
   "pygments_lexer": "ipython3",
   "version": "3.9.13"
  }
 },
 "nbformat": 4,
 "nbformat_minor": 5
}
