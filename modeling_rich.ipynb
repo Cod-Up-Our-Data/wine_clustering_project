{
 "cells": [
  {
   "cell_type": "code",
   "execution_count": 1,
   "id": "dfe49e6a",
   "metadata": {},
   "outputs": [],
   "source": [
    "#standard ds imports\n",
    "import pandas as pd\n",
    "import numpy as np\n",
    "#viz and stats\n",
    "import matplotlib.pyplot as plt\n",
    "import seaborn as sns\n",
    "from scipy import stats\n",
    "# .py imports\n",
    "from env import user, pwd,host\n",
    "import env\n",
    "import wranglerer as wr\n",
    "import modeling as md\n",
    "import os\n",
    "#sklearn imports\n",
    "from sklearn.model_selection import train_test_split\n",
    "import sklearn.preprocessing\n",
    "from mpl_toolkits.mplot3d import Axes3D\n",
    "from matplotlib.colors import ListedColormap\n",
    "from sklearn.metrics import mean_squared_error,explained_variance_score\n",
    "\n",
    "from sklearn.cluster import KMeans\n",
    "from sklearn.linear_model import LinearRegression, LassoLars, TweedieRegressor\n",
    "from sklearn.feature_selection import SelectKBest, RFE, f_regression, SequentialFeatureSelector\n",
    "from sklearn.metrics import r2_score\n",
    "from sklearn.tree import DecisionTreeRegressor\n",
    "from sklearn.ensemble import RandomForestRegressor\n",
    "#CATboost imports\n",
    "from catboost import CatBoostRegressor"
   ]
  },
  {
   "cell_type": "markdown",
   "id": "c02922c4",
   "metadata": {},
   "source": [
    "## ACQUIRE"
   ]
  },
  {
   "cell_type": "code",
   "execution_count": 2,
   "id": "70a7602b",
   "metadata": {},
   "outputs": [
    {
     "name": "stdout",
     "output_type": "stream",
     "text": [
      "local version found!\n",
      "local version found!\n"
     ]
    }
   ],
   "source": [
    "# ACQUIRE/PREP\n",
    "df = wr.merge_wines_df()"
   ]
  },
  {
   "cell_type": "markdown",
   "id": "b3f6196b",
   "metadata": {},
   "source": [
    "## SPLIT"
   ]
  },
  {
   "cell_type": "code",
   "execution_count": 3,
   "id": "05d7c45c",
   "metadata": {},
   "outputs": [],
   "source": [
    "# SPLIT\n",
    "X_train, y_train, X_validate, y_validate, X_test, y_test = wr.train_validate_test(df,'quality')"
   ]
  },
  {
   "cell_type": "code",
   "execution_count": 4,
   "id": "bfd06766",
   "metadata": {
    "scrolled": true
   },
   "outputs": [
    {
     "data": {
      "text/plain": [
       "((3637, 12), (3637,), (1560, 12), (1560,), (1300, 12), (1300,))"
      ]
     },
     "execution_count": 4,
     "metadata": {},
     "output_type": "execute_result"
    }
   ],
   "source": [
    "X_train.shape, y_train.shape, X_validate.shape, y_validate.shape, X_test.shape, y_test.shape"
   ]
  },
  {
   "cell_type": "code",
   "execution_count": 5,
   "id": "fefa45db",
   "metadata": {},
   "outputs": [
    {
     "data": {
      "text/plain": [
       "Index(['fixed_acidity', 'volatile_acidity', 'citric_acid', 'residual_sugar',\n",
       "       'chlorides', 'free_sulfur_dioxide', 'total_sulfur_dioxide', 'density',\n",
       "       'ph', 'sulphates', 'alcohol', 'wine_color'],\n",
       "      dtype='object')"
      ]
     },
     "execution_count": 5,
     "metadata": {},
     "output_type": "execute_result"
    }
   ],
   "source": [
    "X_train.columns"
   ]
  },
  {
   "cell_type": "markdown",
   "id": "509833db",
   "metadata": {},
   "source": [
    "## SCALE (MinMax)"
   ]
  },
  {
   "cell_type": "code",
   "execution_count": 6,
   "id": "80adfa5a",
   "metadata": {},
   "outputs": [],
   "source": [
    "# SCALE THE NUMERICAL DRIVERS\n",
    "cols = X_train.columns\n",
    "X_train_scaled, X_validate_scaled, X_test_scaled = wr.min_max_scale(X_train,X_validate,X_test,cols)"
   ]
  },
  {
   "cell_type": "markdown",
   "id": "8b62e581",
   "metadata": {},
   "source": [
    "## CLUSTER (f)"
   ]
  },
  {
   "cell_type": "code",
   "execution_count": 7,
   "id": "dd88376f",
   "metadata": {},
   "outputs": [
    {
     "data": {
      "text/plain": [
       "Index(['fixed_acidity', 'volatile_acidity', 'citric_acid', 'residual_sugar',\n",
       "       'chlorides', 'free_sulfur_dioxide', 'total_sulfur_dioxide', 'density',\n",
       "       'ph', 'sulphates', 'alcohol', 'wine_color'],\n",
       "      dtype='object')"
      ]
     },
     "execution_count": 7,
     "metadata": {},
     "output_type": "execute_result"
    }
   ],
   "source": [
    "X_train_scaled.columns"
   ]
  },
  {
   "cell_type": "code",
   "execution_count": 8,
   "id": "2ba7cb98",
   "metadata": {},
   "outputs": [],
   "source": [
    "#define features for CLUSTERING:\n",
    "clustering_feats = ['total_sulfur_dioxide',\n",
    "                'volatile_acidity',\n",
    "                'chlorides']\n",
    "X_train_cl = X_train[clustering_feats]\n",
    "X_validate_cl = X_validate[clustering_feats]\n",
    "X_test_cl = X_test[clustering_feats]"
   ]
  },
  {
   "cell_type": "code",
   "execution_count": 9,
   "id": "0d3addbd",
   "metadata": {},
   "outputs": [],
   "source": [
    "# lets make a clustering object from sklearn\n",
    "# Make a thing! Thats my favorite!\n",
    "k_means_proto = KMeans(n_clusters=2)\n",
    "# fit the thing!!!!\n",
    "k_means_proto.fit(X_train_cl)\n",
    "# use the thing\n",
    "X_train_clusters = k_means_proto.predict(X_train_cl)"
   ]
  },
  {
   "cell_type": "code",
   "execution_count": 10,
   "id": "9ba28f72",
   "metadata": {},
   "outputs": [
    {
     "data": {
      "text/html": [
       "<div>\n",
       "<style scoped>\n",
       "    .dataframe tbody tr th:only-of-type {\n",
       "        vertical-align: middle;\n",
       "    }\n",
       "\n",
       "    .dataframe tbody tr th {\n",
       "        vertical-align: top;\n",
       "    }\n",
       "\n",
       "    .dataframe thead th {\n",
       "        text-align: right;\n",
       "    }\n",
       "</style>\n",
       "<table border=\"1\" class=\"dataframe\">\n",
       "  <thead>\n",
       "    <tr style=\"text-align: right;\">\n",
       "      <th></th>\n",
       "      <th>total_sulfur_dioxide</th>\n",
       "      <th>volatile_acidity</th>\n",
       "      <th>chlorides</th>\n",
       "    </tr>\n",
       "  </thead>\n",
       "  <tbody>\n",
       "    <tr>\n",
       "      <th>3737</th>\n",
       "      <td>102.0</td>\n",
       "      <td>0.24</td>\n",
       "      <td>0.060</td>\n",
       "    </tr>\n",
       "    <tr>\n",
       "      <th>19</th>\n",
       "      <td>56.0</td>\n",
       "      <td>0.32</td>\n",
       "      <td>0.341</td>\n",
       "    </tr>\n",
       "    <tr>\n",
       "      <th>2200</th>\n",
       "      <td>106.0</td>\n",
       "      <td>0.24</td>\n",
       "      <td>0.045</td>\n",
       "    </tr>\n",
       "    <tr>\n",
       "      <th>4139</th>\n",
       "      <td>177.0</td>\n",
       "      <td>0.29</td>\n",
       "      <td>0.030</td>\n",
       "    </tr>\n",
       "    <tr>\n",
       "      <th>501</th>\n",
       "      <td>76.0</td>\n",
       "      <td>0.44</td>\n",
       "      <td>0.074</td>\n",
       "    </tr>\n",
       "  </tbody>\n",
       "</table>\n",
       "</div>"
      ],
      "text/plain": [
       "      total_sulfur_dioxide  volatile_acidity  chlorides\n",
       "3737                 102.0              0.24      0.060\n",
       "19                    56.0              0.32      0.341\n",
       "2200                 106.0              0.24      0.045\n",
       "4139                 177.0              0.29      0.030\n",
       "501                   76.0              0.44      0.074"
      ]
     },
     "execution_count": 10,
     "metadata": {},
     "output_type": "execute_result"
    }
   ],
   "source": [
    "X_train_cl.head()"
   ]
  },
  {
   "cell_type": "code",
   "execution_count": 11,
   "id": "3e70985f",
   "metadata": {},
   "outputs": [],
   "source": [
    "X_train_color = X_train.wine_color"
   ]
  },
  {
   "cell_type": "code",
   "execution_count": 12,
   "id": "c390ba6f",
   "metadata": {},
   "outputs": [
    {
     "data": {
      "text/plain": [
       "3737    0\n",
       "19      1\n",
       "2200    0\n",
       "4139    0\n",
       "501     1\n",
       "       ..\n",
       "4918    0\n",
       "3542    0\n",
       "1884    0\n",
       "2206    0\n",
       "548     1\n",
       "Name: wine_color, Length: 3637, dtype: int64"
      ]
     },
     "execution_count": 12,
     "metadata": {},
     "output_type": "execute_result"
    }
   ],
   "source": [
    "X_train_color"
   ]
  },
  {
   "cell_type": "code",
   "execution_count": 13,
   "id": "e210be37",
   "metadata": {},
   "outputs": [
    {
     "data": {
      "text/plain": [
       "array([1, 1, 1, ..., 0, 0, 1], dtype=int32)"
      ]
     },
     "execution_count": 13,
     "metadata": {},
     "output_type": "execute_result"
    }
   ],
   "source": [
    "X_train_clusters"
   ]
  },
  {
   "cell_type": "code",
   "execution_count": 14,
   "id": "7dcfebf3",
   "metadata": {},
   "outputs": [],
   "source": [
    "X_train_cl_results = pd.DataFrame({'actual_color': X_train_color,\n",
    "                                  'clust_color': X_train_clusters})"
   ]
  },
  {
   "cell_type": "code",
   "execution_count": 15,
   "id": "188741f4",
   "metadata": {},
   "outputs": [
    {
     "data": {
      "text/html": [
       "<div>\n",
       "<style scoped>\n",
       "    .dataframe tbody tr th:only-of-type {\n",
       "        vertical-align: middle;\n",
       "    }\n",
       "\n",
       "    .dataframe tbody tr th {\n",
       "        vertical-align: top;\n",
       "    }\n",
       "\n",
       "    .dataframe thead th {\n",
       "        text-align: right;\n",
       "    }\n",
       "</style>\n",
       "<table border=\"1\" class=\"dataframe\">\n",
       "  <thead>\n",
       "    <tr style=\"text-align: right;\">\n",
       "      <th></th>\n",
       "      <th>actual_color</th>\n",
       "      <th>clust_color</th>\n",
       "    </tr>\n",
       "  </thead>\n",
       "  <tbody>\n",
       "    <tr>\n",
       "      <th>3737</th>\n",
       "      <td>0</td>\n",
       "      <td>1</td>\n",
       "    </tr>\n",
       "    <tr>\n",
       "      <th>19</th>\n",
       "      <td>1</td>\n",
       "      <td>1</td>\n",
       "    </tr>\n",
       "    <tr>\n",
       "      <th>2200</th>\n",
       "      <td>0</td>\n",
       "      <td>1</td>\n",
       "    </tr>\n",
       "    <tr>\n",
       "      <th>4139</th>\n",
       "      <td>0</td>\n",
       "      <td>0</td>\n",
       "    </tr>\n",
       "    <tr>\n",
       "      <th>501</th>\n",
       "      <td>1</td>\n",
       "      <td>1</td>\n",
       "    </tr>\n",
       "    <tr>\n",
       "      <th>...</th>\n",
       "      <td>...</td>\n",
       "      <td>...</td>\n",
       "    </tr>\n",
       "    <tr>\n",
       "      <th>4918</th>\n",
       "      <td>0</td>\n",
       "      <td>0</td>\n",
       "    </tr>\n",
       "    <tr>\n",
       "      <th>3542</th>\n",
       "      <td>0</td>\n",
       "      <td>0</td>\n",
       "    </tr>\n",
       "    <tr>\n",
       "      <th>1884</th>\n",
       "      <td>0</td>\n",
       "      <td>0</td>\n",
       "    </tr>\n",
       "    <tr>\n",
       "      <th>2206</th>\n",
       "      <td>0</td>\n",
       "      <td>0</td>\n",
       "    </tr>\n",
       "    <tr>\n",
       "      <th>548</th>\n",
       "      <td>1</td>\n",
       "      <td>1</td>\n",
       "    </tr>\n",
       "  </tbody>\n",
       "</table>\n",
       "<p>3637 rows × 2 columns</p>\n",
       "</div>"
      ],
      "text/plain": [
       "      actual_color  clust_color\n",
       "3737             0            1\n",
       "19               1            1\n",
       "2200             0            1\n",
       "4139             0            0\n",
       "501              1            1\n",
       "...            ...          ...\n",
       "4918             0            0\n",
       "3542             0            0\n",
       "1884             0            0\n",
       "2206             0            0\n",
       "548              1            1\n",
       "\n",
       "[3637 rows x 2 columns]"
      ]
     },
     "execution_count": 15,
     "metadata": {},
     "output_type": "execute_result"
    }
   ],
   "source": [
    "X_train_cl_results"
   ]
  },
  {
   "cell_type": "code",
   "execution_count": 16,
   "id": "1646233b",
   "metadata": {},
   "outputs": [],
   "source": [
    "X_clusters = pd.concat([X_train_cl,X_train_cl_results],axis=1)"
   ]
  },
  {
   "cell_type": "code",
   "execution_count": 17,
   "id": "7b25aad0",
   "metadata": {},
   "outputs": [
    {
     "data": {
      "text/html": [
       "<div>\n",
       "<style scoped>\n",
       "    .dataframe tbody tr th:only-of-type {\n",
       "        vertical-align: middle;\n",
       "    }\n",
       "\n",
       "    .dataframe tbody tr th {\n",
       "        vertical-align: top;\n",
       "    }\n",
       "\n",
       "    .dataframe thead th {\n",
       "        text-align: right;\n",
       "    }\n",
       "</style>\n",
       "<table border=\"1\" class=\"dataframe\">\n",
       "  <thead>\n",
       "    <tr style=\"text-align: right;\">\n",
       "      <th></th>\n",
       "      <th>total_sulfur_dioxide</th>\n",
       "      <th>volatile_acidity</th>\n",
       "      <th>chlorides</th>\n",
       "      <th>actual_color</th>\n",
       "      <th>clust_color</th>\n",
       "    </tr>\n",
       "  </thead>\n",
       "  <tbody>\n",
       "    <tr>\n",
       "      <th>3737</th>\n",
       "      <td>102.0</td>\n",
       "      <td>0.24</td>\n",
       "      <td>0.060</td>\n",
       "      <td>0</td>\n",
       "      <td>1</td>\n",
       "    </tr>\n",
       "    <tr>\n",
       "      <th>19</th>\n",
       "      <td>56.0</td>\n",
       "      <td>0.32</td>\n",
       "      <td>0.341</td>\n",
       "      <td>1</td>\n",
       "      <td>1</td>\n",
       "    </tr>\n",
       "    <tr>\n",
       "      <th>2200</th>\n",
       "      <td>106.0</td>\n",
       "      <td>0.24</td>\n",
       "      <td>0.045</td>\n",
       "      <td>0</td>\n",
       "      <td>1</td>\n",
       "    </tr>\n",
       "    <tr>\n",
       "      <th>4139</th>\n",
       "      <td>177.0</td>\n",
       "      <td>0.29</td>\n",
       "      <td>0.030</td>\n",
       "      <td>0</td>\n",
       "      <td>0</td>\n",
       "    </tr>\n",
       "    <tr>\n",
       "      <th>501</th>\n",
       "      <td>76.0</td>\n",
       "      <td>0.44</td>\n",
       "      <td>0.074</td>\n",
       "      <td>1</td>\n",
       "      <td>1</td>\n",
       "    </tr>\n",
       "    <tr>\n",
       "      <th>...</th>\n",
       "      <td>...</td>\n",
       "      <td>...</td>\n",
       "      <td>...</td>\n",
       "      <td>...</td>\n",
       "      <td>...</td>\n",
       "    </tr>\n",
       "    <tr>\n",
       "      <th>4918</th>\n",
       "      <td>148.0</td>\n",
       "      <td>0.21</td>\n",
       "      <td>0.047</td>\n",
       "      <td>0</td>\n",
       "      <td>0</td>\n",
       "    </tr>\n",
       "    <tr>\n",
       "      <th>3542</th>\n",
       "      <td>195.0</td>\n",
       "      <td>0.25</td>\n",
       "      <td>0.041</td>\n",
       "      <td>0</td>\n",
       "      <td>0</td>\n",
       "    </tr>\n",
       "    <tr>\n",
       "      <th>1884</th>\n",
       "      <td>180.0</td>\n",
       "      <td>0.32</td>\n",
       "      <td>0.056</td>\n",
       "      <td>0</td>\n",
       "      <td>0</td>\n",
       "    </tr>\n",
       "    <tr>\n",
       "      <th>2206</th>\n",
       "      <td>158.0</td>\n",
       "      <td>0.25</td>\n",
       "      <td>0.049</td>\n",
       "      <td>0</td>\n",
       "      <td>0</td>\n",
       "    </tr>\n",
       "    <tr>\n",
       "      <th>548</th>\n",
       "      <td>69.0</td>\n",
       "      <td>0.35</td>\n",
       "      <td>0.079</td>\n",
       "      <td>1</td>\n",
       "      <td>1</td>\n",
       "    </tr>\n",
       "  </tbody>\n",
       "</table>\n",
       "<p>3637 rows × 5 columns</p>\n",
       "</div>"
      ],
      "text/plain": [
       "      total_sulfur_dioxide  volatile_acidity  chlorides  actual_color  \\\n",
       "3737                 102.0              0.24      0.060             0   \n",
       "19                    56.0              0.32      0.341             1   \n",
       "2200                 106.0              0.24      0.045             0   \n",
       "4139                 177.0              0.29      0.030             0   \n",
       "501                   76.0              0.44      0.074             1   \n",
       "...                    ...               ...        ...           ...   \n",
       "4918                 148.0              0.21      0.047             0   \n",
       "3542                 195.0              0.25      0.041             0   \n",
       "1884                 180.0              0.32      0.056             0   \n",
       "2206                 158.0              0.25      0.049             0   \n",
       "548                   69.0              0.35      0.079             1   \n",
       "\n",
       "      clust_color  \n",
       "3737            1  \n",
       "19              1  \n",
       "2200            1  \n",
       "4139            0  \n",
       "501             1  \n",
       "...           ...  \n",
       "4918            0  \n",
       "3542            0  \n",
       "1884            0  \n",
       "2206            0  \n",
       "548             1  \n",
       "\n",
       "[3637 rows x 5 columns]"
      ]
     },
     "execution_count": 17,
     "metadata": {},
     "output_type": "execute_result"
    }
   ],
   "source": [
    "X_clusters"
   ]
  },
  {
   "cell_type": "code",
   "execution_count": 18,
   "id": "9e48bf8e",
   "metadata": {},
   "outputs": [],
   "source": [
    "X_clusters['success'] = X_clusters.actual_color == X_clusters.clust_color"
   ]
  },
  {
   "cell_type": "code",
   "execution_count": 19,
   "id": "33daa4d9",
   "metadata": {},
   "outputs": [
    {
     "data": {
      "text/html": [
       "<div>\n",
       "<style scoped>\n",
       "    .dataframe tbody tr th:only-of-type {\n",
       "        vertical-align: middle;\n",
       "    }\n",
       "\n",
       "    .dataframe tbody tr th {\n",
       "        vertical-align: top;\n",
       "    }\n",
       "\n",
       "    .dataframe thead th {\n",
       "        text-align: right;\n",
       "    }\n",
       "</style>\n",
       "<table border=\"1\" class=\"dataframe\">\n",
       "  <thead>\n",
       "    <tr style=\"text-align: right;\">\n",
       "      <th></th>\n",
       "      <th>total_sulfur_dioxide</th>\n",
       "      <th>volatile_acidity</th>\n",
       "      <th>chlorides</th>\n",
       "      <th>actual_color</th>\n",
       "      <th>clust_color</th>\n",
       "      <th>success</th>\n",
       "    </tr>\n",
       "  </thead>\n",
       "  <tbody>\n",
       "    <tr>\n",
       "      <th>3737</th>\n",
       "      <td>102.0</td>\n",
       "      <td>0.24</td>\n",
       "      <td>0.060</td>\n",
       "      <td>0</td>\n",
       "      <td>1</td>\n",
       "      <td>False</td>\n",
       "    </tr>\n",
       "    <tr>\n",
       "      <th>19</th>\n",
       "      <td>56.0</td>\n",
       "      <td>0.32</td>\n",
       "      <td>0.341</td>\n",
       "      <td>1</td>\n",
       "      <td>1</td>\n",
       "      <td>True</td>\n",
       "    </tr>\n",
       "    <tr>\n",
       "      <th>2200</th>\n",
       "      <td>106.0</td>\n",
       "      <td>0.24</td>\n",
       "      <td>0.045</td>\n",
       "      <td>0</td>\n",
       "      <td>1</td>\n",
       "      <td>False</td>\n",
       "    </tr>\n",
       "    <tr>\n",
       "      <th>4139</th>\n",
       "      <td>177.0</td>\n",
       "      <td>0.29</td>\n",
       "      <td>0.030</td>\n",
       "      <td>0</td>\n",
       "      <td>0</td>\n",
       "      <td>True</td>\n",
       "    </tr>\n",
       "    <tr>\n",
       "      <th>501</th>\n",
       "      <td>76.0</td>\n",
       "      <td>0.44</td>\n",
       "      <td>0.074</td>\n",
       "      <td>1</td>\n",
       "      <td>1</td>\n",
       "      <td>True</td>\n",
       "    </tr>\n",
       "    <tr>\n",
       "      <th>...</th>\n",
       "      <td>...</td>\n",
       "      <td>...</td>\n",
       "      <td>...</td>\n",
       "      <td>...</td>\n",
       "      <td>...</td>\n",
       "      <td>...</td>\n",
       "    </tr>\n",
       "    <tr>\n",
       "      <th>4918</th>\n",
       "      <td>148.0</td>\n",
       "      <td>0.21</td>\n",
       "      <td>0.047</td>\n",
       "      <td>0</td>\n",
       "      <td>0</td>\n",
       "      <td>True</td>\n",
       "    </tr>\n",
       "    <tr>\n",
       "      <th>3542</th>\n",
       "      <td>195.0</td>\n",
       "      <td>0.25</td>\n",
       "      <td>0.041</td>\n",
       "      <td>0</td>\n",
       "      <td>0</td>\n",
       "      <td>True</td>\n",
       "    </tr>\n",
       "    <tr>\n",
       "      <th>1884</th>\n",
       "      <td>180.0</td>\n",
       "      <td>0.32</td>\n",
       "      <td>0.056</td>\n",
       "      <td>0</td>\n",
       "      <td>0</td>\n",
       "      <td>True</td>\n",
       "    </tr>\n",
       "    <tr>\n",
       "      <th>2206</th>\n",
       "      <td>158.0</td>\n",
       "      <td>0.25</td>\n",
       "      <td>0.049</td>\n",
       "      <td>0</td>\n",
       "      <td>0</td>\n",
       "      <td>True</td>\n",
       "    </tr>\n",
       "    <tr>\n",
       "      <th>548</th>\n",
       "      <td>69.0</td>\n",
       "      <td>0.35</td>\n",
       "      <td>0.079</td>\n",
       "      <td>1</td>\n",
       "      <td>1</td>\n",
       "      <td>True</td>\n",
       "    </tr>\n",
       "  </tbody>\n",
       "</table>\n",
       "<p>3637 rows × 6 columns</p>\n",
       "</div>"
      ],
      "text/plain": [
       "      total_sulfur_dioxide  volatile_acidity  chlorides  actual_color  \\\n",
       "3737                 102.0              0.24      0.060             0   \n",
       "19                    56.0              0.32      0.341             1   \n",
       "2200                 106.0              0.24      0.045             0   \n",
       "4139                 177.0              0.29      0.030             0   \n",
       "501                   76.0              0.44      0.074             1   \n",
       "...                    ...               ...        ...           ...   \n",
       "4918                 148.0              0.21      0.047             0   \n",
       "3542                 195.0              0.25      0.041             0   \n",
       "1884                 180.0              0.32      0.056             0   \n",
       "2206                 158.0              0.25      0.049             0   \n",
       "548                   69.0              0.35      0.079             1   \n",
       "\n",
       "      clust_color  success  \n",
       "3737            1    False  \n",
       "19              1     True  \n",
       "2200            1    False  \n",
       "4139            0     True  \n",
       "501             1     True  \n",
       "...           ...      ...  \n",
       "4918            0     True  \n",
       "3542            0     True  \n",
       "1884            0     True  \n",
       "2206            0     True  \n",
       "548             1     True  \n",
       "\n",
       "[3637 rows x 6 columns]"
      ]
     },
     "execution_count": 19,
     "metadata": {},
     "output_type": "execute_result"
    }
   ],
   "source": [
    "X_clusters"
   ]
  },
  {
   "cell_type": "code",
   "execution_count": 20,
   "id": "de672e5d",
   "metadata": {},
   "outputs": [
    {
     "data": {
      "text/plain": [
       "True     2890\n",
       "False     747\n",
       "Name: success, dtype: int64"
      ]
     },
     "execution_count": 20,
     "metadata": {},
     "output_type": "execute_result"
    }
   ],
   "source": [
    "X_clusters.success.value_counts()"
   ]
  },
  {
   "cell_type": "code",
   "execution_count": 21,
   "id": "b0c04bef",
   "metadata": {},
   "outputs": [
    {
     "data": {
      "text/plain": [
       "0.795"
      ]
     },
     "execution_count": 21,
     "metadata": {},
     "output_type": "execute_result"
    }
   ],
   "source": [
    "tr = X_clusters.success.value_counts()[1]\n",
    "fal = X_clusters.success.value_counts()[0]\n",
    "\n",
    "round(tr / (tr+fal),3)"
   ]
  },
  {
   "cell_type": "markdown",
   "id": "5ac7ee9a",
   "metadata": {},
   "source": [
    "## Running a K-means with 2 centroids as a way to potentially replicate the two-color split.  Vanilla K-means was able to identify 79.5% of actual color-values.\n",
    "\n",
    "## However, wine_color is NOT our target, so this information would only be useful should we need to subset our data based upon wine_color."
   ]
  },
  {
   "cell_type": "code",
   "execution_count": null,
   "id": "6369ba1a",
   "metadata": {},
   "outputs": [],
   "source": []
  },
  {
   "cell_type": "code",
   "execution_count": null,
   "id": "b94a8b85",
   "metadata": {},
   "outputs": [],
   "source": []
  },
  {
   "cell_type": "markdown",
   "id": "755b65a2",
   "metadata": {},
   "source": [
    "## CLUSTERING 2"
   ]
  },
  {
   "cell_type": "code",
   "execution_count": 22,
   "id": "5c26fbcf",
   "metadata": {},
   "outputs": [],
   "source": [
    "#define features for CLUSTERING:\n",
    "clustering_feats = ['total_sulfur_dioxide',\n",
    "                'volatile_acidity']\n",
    "X_train_cl = X_train[clustering_feats]\n",
    "X_validate_cl = X_validate[clustering_feats]\n",
    "X_test_cl = X_test[clustering_feats]"
   ]
  },
  {
   "cell_type": "code",
   "execution_count": 23,
   "id": "a4ae7094",
   "metadata": {},
   "outputs": [],
   "source": [
    "# lets make a clustering object from sklearn\n",
    "# Make a thing! Thats my favorite!\n",
    "k_means_proto = KMeans(n_clusters=2)\n",
    "# fit the thing!!!!\n",
    "k_means_proto.fit(X_train_cl)\n",
    "# use the thing\n",
    "X_train_clusters = k_means_proto.predict(X_train_cl)\n"
   ]
  },
  {
   "cell_type": "code",
   "execution_count": 24,
   "id": "6f1aca82",
   "metadata": {},
   "outputs": [],
   "source": [
    "X_train_cl_results = pd.DataFrame({'actual_color2': X_train_color,'clust_color2': X_train_clusters})"
   ]
  },
  {
   "cell_type": "code",
   "execution_count": 25,
   "id": "941c3f82",
   "metadata": {},
   "outputs": [
    {
     "data": {
      "text/html": [
       "<div>\n",
       "<style scoped>\n",
       "    .dataframe tbody tr th:only-of-type {\n",
       "        vertical-align: middle;\n",
       "    }\n",
       "\n",
       "    .dataframe tbody tr th {\n",
       "        vertical-align: top;\n",
       "    }\n",
       "\n",
       "    .dataframe thead th {\n",
       "        text-align: right;\n",
       "    }\n",
       "</style>\n",
       "<table border=\"1\" class=\"dataframe\">\n",
       "  <thead>\n",
       "    <tr style=\"text-align: right;\">\n",
       "      <th></th>\n",
       "      <th>actual_color2</th>\n",
       "      <th>clust_color2</th>\n",
       "    </tr>\n",
       "  </thead>\n",
       "  <tbody>\n",
       "    <tr>\n",
       "      <th>3737</th>\n",
       "      <td>0</td>\n",
       "      <td>1</td>\n",
       "    </tr>\n",
       "    <tr>\n",
       "      <th>19</th>\n",
       "      <td>1</td>\n",
       "      <td>1</td>\n",
       "    </tr>\n",
       "    <tr>\n",
       "      <th>2200</th>\n",
       "      <td>0</td>\n",
       "      <td>1</td>\n",
       "    </tr>\n",
       "    <tr>\n",
       "      <th>4139</th>\n",
       "      <td>0</td>\n",
       "      <td>0</td>\n",
       "    </tr>\n",
       "    <tr>\n",
       "      <th>501</th>\n",
       "      <td>1</td>\n",
       "      <td>1</td>\n",
       "    </tr>\n",
       "  </tbody>\n",
       "</table>\n",
       "</div>"
      ],
      "text/plain": [
       "      actual_color2  clust_color2\n",
       "3737              0             1\n",
       "19                1             1\n",
       "2200              0             1\n",
       "4139              0             0\n",
       "501               1             1"
      ]
     },
     "execution_count": 25,
     "metadata": {},
     "output_type": "execute_result"
    }
   ],
   "source": [
    "X_train_cl_results.head()"
   ]
  },
  {
   "cell_type": "code",
   "execution_count": 26,
   "id": "01fccdec",
   "metadata": {},
   "outputs": [],
   "source": [
    "X_clusters = pd.concat([X_clusters,X_train_cl_results],axis=1)\n",
    "X_clusters['success2'] = X_clusters.actual_color2 == X_clusters.clust_color2"
   ]
  },
  {
   "cell_type": "code",
   "execution_count": 27,
   "id": "bb937eff",
   "metadata": {},
   "outputs": [
    {
     "data": {
      "text/html": [
       "<div>\n",
       "<style scoped>\n",
       "    .dataframe tbody tr th:only-of-type {\n",
       "        vertical-align: middle;\n",
       "    }\n",
       "\n",
       "    .dataframe tbody tr th {\n",
       "        vertical-align: top;\n",
       "    }\n",
       "\n",
       "    .dataframe thead th {\n",
       "        text-align: right;\n",
       "    }\n",
       "</style>\n",
       "<table border=\"1\" class=\"dataframe\">\n",
       "  <thead>\n",
       "    <tr style=\"text-align: right;\">\n",
       "      <th></th>\n",
       "      <th>total_sulfur_dioxide</th>\n",
       "      <th>volatile_acidity</th>\n",
       "      <th>chlorides</th>\n",
       "      <th>actual_color</th>\n",
       "      <th>clust_color</th>\n",
       "      <th>success</th>\n",
       "      <th>actual_color2</th>\n",
       "      <th>clust_color2</th>\n",
       "      <th>success2</th>\n",
       "    </tr>\n",
       "  </thead>\n",
       "  <tbody>\n",
       "    <tr>\n",
       "      <th>3737</th>\n",
       "      <td>102.0</td>\n",
       "      <td>0.24</td>\n",
       "      <td>0.060</td>\n",
       "      <td>0</td>\n",
       "      <td>1</td>\n",
       "      <td>False</td>\n",
       "      <td>0</td>\n",
       "      <td>1</td>\n",
       "      <td>False</td>\n",
       "    </tr>\n",
       "    <tr>\n",
       "      <th>19</th>\n",
       "      <td>56.0</td>\n",
       "      <td>0.32</td>\n",
       "      <td>0.341</td>\n",
       "      <td>1</td>\n",
       "      <td>1</td>\n",
       "      <td>True</td>\n",
       "      <td>1</td>\n",
       "      <td>1</td>\n",
       "      <td>True</td>\n",
       "    </tr>\n",
       "    <tr>\n",
       "      <th>2200</th>\n",
       "      <td>106.0</td>\n",
       "      <td>0.24</td>\n",
       "      <td>0.045</td>\n",
       "      <td>0</td>\n",
       "      <td>1</td>\n",
       "      <td>False</td>\n",
       "      <td>0</td>\n",
       "      <td>1</td>\n",
       "      <td>False</td>\n",
       "    </tr>\n",
       "    <tr>\n",
       "      <th>4139</th>\n",
       "      <td>177.0</td>\n",
       "      <td>0.29</td>\n",
       "      <td>0.030</td>\n",
       "      <td>0</td>\n",
       "      <td>0</td>\n",
       "      <td>True</td>\n",
       "      <td>0</td>\n",
       "      <td>0</td>\n",
       "      <td>True</td>\n",
       "    </tr>\n",
       "    <tr>\n",
       "      <th>501</th>\n",
       "      <td>76.0</td>\n",
       "      <td>0.44</td>\n",
       "      <td>0.074</td>\n",
       "      <td>1</td>\n",
       "      <td>1</td>\n",
       "      <td>True</td>\n",
       "      <td>1</td>\n",
       "      <td>1</td>\n",
       "      <td>True</td>\n",
       "    </tr>\n",
       "    <tr>\n",
       "      <th>...</th>\n",
       "      <td>...</td>\n",
       "      <td>...</td>\n",
       "      <td>...</td>\n",
       "      <td>...</td>\n",
       "      <td>...</td>\n",
       "      <td>...</td>\n",
       "      <td>...</td>\n",
       "      <td>...</td>\n",
       "      <td>...</td>\n",
       "    </tr>\n",
       "    <tr>\n",
       "      <th>4918</th>\n",
       "      <td>148.0</td>\n",
       "      <td>0.21</td>\n",
       "      <td>0.047</td>\n",
       "      <td>0</td>\n",
       "      <td>0</td>\n",
       "      <td>True</td>\n",
       "      <td>0</td>\n",
       "      <td>0</td>\n",
       "      <td>True</td>\n",
       "    </tr>\n",
       "    <tr>\n",
       "      <th>3542</th>\n",
       "      <td>195.0</td>\n",
       "      <td>0.25</td>\n",
       "      <td>0.041</td>\n",
       "      <td>0</td>\n",
       "      <td>0</td>\n",
       "      <td>True</td>\n",
       "      <td>0</td>\n",
       "      <td>0</td>\n",
       "      <td>True</td>\n",
       "    </tr>\n",
       "    <tr>\n",
       "      <th>1884</th>\n",
       "      <td>180.0</td>\n",
       "      <td>0.32</td>\n",
       "      <td>0.056</td>\n",
       "      <td>0</td>\n",
       "      <td>0</td>\n",
       "      <td>True</td>\n",
       "      <td>0</td>\n",
       "      <td>0</td>\n",
       "      <td>True</td>\n",
       "    </tr>\n",
       "    <tr>\n",
       "      <th>2206</th>\n",
       "      <td>158.0</td>\n",
       "      <td>0.25</td>\n",
       "      <td>0.049</td>\n",
       "      <td>0</td>\n",
       "      <td>0</td>\n",
       "      <td>True</td>\n",
       "      <td>0</td>\n",
       "      <td>0</td>\n",
       "      <td>True</td>\n",
       "    </tr>\n",
       "    <tr>\n",
       "      <th>548</th>\n",
       "      <td>69.0</td>\n",
       "      <td>0.35</td>\n",
       "      <td>0.079</td>\n",
       "      <td>1</td>\n",
       "      <td>1</td>\n",
       "      <td>True</td>\n",
       "      <td>1</td>\n",
       "      <td>1</td>\n",
       "      <td>True</td>\n",
       "    </tr>\n",
       "  </tbody>\n",
       "</table>\n",
       "<p>3637 rows × 9 columns</p>\n",
       "</div>"
      ],
      "text/plain": [
       "      total_sulfur_dioxide  volatile_acidity  chlorides  actual_color  \\\n",
       "3737                 102.0              0.24      0.060             0   \n",
       "19                    56.0              0.32      0.341             1   \n",
       "2200                 106.0              0.24      0.045             0   \n",
       "4139                 177.0              0.29      0.030             0   \n",
       "501                   76.0              0.44      0.074             1   \n",
       "...                    ...               ...        ...           ...   \n",
       "4918                 148.0              0.21      0.047             0   \n",
       "3542                 195.0              0.25      0.041             0   \n",
       "1884                 180.0              0.32      0.056             0   \n",
       "2206                 158.0              0.25      0.049             0   \n",
       "548                   69.0              0.35      0.079             1   \n",
       "\n",
       "      clust_color  success  actual_color2  clust_color2  success2  \n",
       "3737            1    False              0             1     False  \n",
       "19              1     True              1             1      True  \n",
       "2200            1    False              0             1     False  \n",
       "4139            0     True              0             0      True  \n",
       "501             1     True              1             1      True  \n",
       "...           ...      ...            ...           ...       ...  \n",
       "4918            0     True              0             0      True  \n",
       "3542            0     True              0             0      True  \n",
       "1884            0     True              0             0      True  \n",
       "2206            0     True              0             0      True  \n",
       "548             1     True              1             1      True  \n",
       "\n",
       "[3637 rows x 9 columns]"
      ]
     },
     "execution_count": 27,
     "metadata": {},
     "output_type": "execute_result"
    }
   ],
   "source": [
    "X_clusters"
   ]
  },
  {
   "cell_type": "code",
   "execution_count": 28,
   "id": "5d61c87a",
   "metadata": {},
   "outputs": [
    {
     "data": {
      "text/plain": [
       "0.795"
      ]
     },
     "execution_count": 28,
     "metadata": {},
     "output_type": "execute_result"
    }
   ],
   "source": [
    "tr = X_clusters.success2.value_counts()[1]\n",
    "fal = X_clusters.success2.value_counts()[0]\n",
    "\n",
    "round(tr / (tr+fal),3)"
   ]
  },
  {
   "cell_type": "markdown",
   "id": "53e9296f",
   "metadata": {},
   "source": [
    "## CLUSTERING 3"
   ]
  },
  {
   "cell_type": "code",
   "execution_count": 29,
   "id": "5dcdeb0f",
   "metadata": {},
   "outputs": [
    {
     "data": {
      "text/plain": [
       "0.868"
      ]
     },
     "execution_count": 29,
     "metadata": {},
     "output_type": "execute_result"
    }
   ],
   "source": [
    "#define features for CLUSTERING:\n",
    "clustering_feats = ['chlorides',\n",
    "                'volatile_acidity']\n",
    "X_train_cl = X_train[clustering_feats]\n",
    "X_validate_cl = X_validate[clustering_feats]\n",
    "X_test_cl = X_test[clustering_feats]\n",
    "\n",
    "# lets make a clustering object from sklearn\n",
    "# Make a thing! Thats my favorite!\n",
    "k_means_proto = KMeans(n_clusters=2)\n",
    "# fit the thing!!!!\n",
    "k_means_proto.fit(X_train_cl)\n",
    "# use the thing\n",
    "X_train_clusters = k_means_proto.predict(X_train_cl)\n",
    "\n",
    "X_train_cl_results = pd.DataFrame({'actual_color3': X_train_color,'clust_color3': X_train_clusters})\n",
    "\n",
    "X_clusters = pd.concat([X_clusters,X_train_cl_results],axis=1)\n",
    "X_clusters['success3'] = X_clusters.actual_color3 == X_clusters.clust_color3\n",
    "\n",
    "tr = X_clusters.success3.value_counts()[1]\n",
    "fal = X_clusters.success3.value_counts()[0]\n",
    "\n",
    "round(tr / (tr+fal),3)"
   ]
  },
  {
   "cell_type": "code",
   "execution_count": 31,
   "id": "2abf9f6b",
   "metadata": {},
   "outputs": [
    {
     "data": {
      "text/html": [
       "<div>\n",
       "<style scoped>\n",
       "    .dataframe tbody tr th:only-of-type {\n",
       "        vertical-align: middle;\n",
       "    }\n",
       "\n",
       "    .dataframe tbody tr th {\n",
       "        vertical-align: top;\n",
       "    }\n",
       "\n",
       "    .dataframe thead th {\n",
       "        text-align: right;\n",
       "    }\n",
       "</style>\n",
       "<table border=\"1\" class=\"dataframe\">\n",
       "  <thead>\n",
       "    <tr style=\"text-align: right;\">\n",
       "      <th></th>\n",
       "      <th>total_sulfur_dioxide</th>\n",
       "      <th>volatile_acidity</th>\n",
       "      <th>chlorides</th>\n",
       "      <th>actual_color</th>\n",
       "      <th>clust_color</th>\n",
       "      <th>success</th>\n",
       "      <th>actual_color2</th>\n",
       "      <th>clust_color2</th>\n",
       "      <th>success2</th>\n",
       "      <th>actual_color3</th>\n",
       "      <th>clust_color3</th>\n",
       "      <th>success3</th>\n",
       "    </tr>\n",
       "  </thead>\n",
       "  <tbody>\n",
       "    <tr>\n",
       "      <th>3737</th>\n",
       "      <td>102.0</td>\n",
       "      <td>0.24</td>\n",
       "      <td>0.060</td>\n",
       "      <td>0</td>\n",
       "      <td>1</td>\n",
       "      <td>False</td>\n",
       "      <td>0</td>\n",
       "      <td>1</td>\n",
       "      <td>False</td>\n",
       "      <td>0</td>\n",
       "      <td>0</td>\n",
       "      <td>True</td>\n",
       "    </tr>\n",
       "    <tr>\n",
       "      <th>19</th>\n",
       "      <td>56.0</td>\n",
       "      <td>0.32</td>\n",
       "      <td>0.341</td>\n",
       "      <td>1</td>\n",
       "      <td>1</td>\n",
       "      <td>True</td>\n",
       "      <td>1</td>\n",
       "      <td>1</td>\n",
       "      <td>True</td>\n",
       "      <td>1</td>\n",
       "      <td>0</td>\n",
       "      <td>False</td>\n",
       "    </tr>\n",
       "    <tr>\n",
       "      <th>2200</th>\n",
       "      <td>106.0</td>\n",
       "      <td>0.24</td>\n",
       "      <td>0.045</td>\n",
       "      <td>0</td>\n",
       "      <td>1</td>\n",
       "      <td>False</td>\n",
       "      <td>0</td>\n",
       "      <td>1</td>\n",
       "      <td>False</td>\n",
       "      <td>0</td>\n",
       "      <td>0</td>\n",
       "      <td>True</td>\n",
       "    </tr>\n",
       "    <tr>\n",
       "      <th>4139</th>\n",
       "      <td>177.0</td>\n",
       "      <td>0.29</td>\n",
       "      <td>0.030</td>\n",
       "      <td>0</td>\n",
       "      <td>0</td>\n",
       "      <td>True</td>\n",
       "      <td>0</td>\n",
       "      <td>0</td>\n",
       "      <td>True</td>\n",
       "      <td>0</td>\n",
       "      <td>0</td>\n",
       "      <td>True</td>\n",
       "    </tr>\n",
       "    <tr>\n",
       "      <th>501</th>\n",
       "      <td>76.0</td>\n",
       "      <td>0.44</td>\n",
       "      <td>0.074</td>\n",
       "      <td>1</td>\n",
       "      <td>1</td>\n",
       "      <td>True</td>\n",
       "      <td>1</td>\n",
       "      <td>1</td>\n",
       "      <td>True</td>\n",
       "      <td>1</td>\n",
       "      <td>1</td>\n",
       "      <td>True</td>\n",
       "    </tr>\n",
       "  </tbody>\n",
       "</table>\n",
       "</div>"
      ],
      "text/plain": [
       "      total_sulfur_dioxide  volatile_acidity  chlorides  actual_color  \\\n",
       "3737                 102.0              0.24      0.060             0   \n",
       "19                    56.0              0.32      0.341             1   \n",
       "2200                 106.0              0.24      0.045             0   \n",
       "4139                 177.0              0.29      0.030             0   \n",
       "501                   76.0              0.44      0.074             1   \n",
       "\n",
       "      clust_color  success  actual_color2  clust_color2  success2  \\\n",
       "3737            1    False              0             1     False   \n",
       "19              1     True              1             1      True   \n",
       "2200            1    False              0             1     False   \n",
       "4139            0     True              0             0      True   \n",
       "501             1     True              1             1      True   \n",
       "\n",
       "      actual_color3  clust_color3  success3  \n",
       "3737              0             0      True  \n",
       "19                1             0     False  \n",
       "2200              0             0      True  \n",
       "4139              0             0      True  \n",
       "501               1             1      True  "
      ]
     },
     "execution_count": 31,
     "metadata": {},
     "output_type": "execute_result"
    }
   ],
   "source": [
    "X_clusters.head()"
   ]
  },
  {
   "cell_type": "markdown",
   "id": "88dc1ea7",
   "metadata": {},
   "source": [
    "## EST BASELINE (mean)"
   ]
  },
  {
   "cell_type": "code",
   "execution_count": null,
   "id": "3fbea55d",
   "metadata": {},
   "outputs": [],
   "source": [
    "# ESTABLISH BASELINE:\n",
    "# convert y_targets into dataframe so that we can append additional columns to it\n",
    "y_train = pd.DataFrame(y_train)\n",
    "y_validate = pd.DataFrame(y_validate)\n",
    "y_test = pd.DataFrame(y_test)\n",
    "\n",
    "# Predict target_pred_mean-Baseline\n",
    "target_pred_mean = y_train.quality.mean()\n",
    "y_train['target_pred_mean'] = round(target_pred_mean,0)\n",
    "y_validate['target_pred_mean'] = target_pred_mean\n",
    "\n",
    "# 2. compute target_pred_median\n",
    "target_pred_median = y_train.quality.median()\n",
    "y_train['target_pred_median'] = target_pred_median\n",
    "y_validate['target_pred_median'] = target_pred_median\n",
    "\n",
    "#Calculate RMSE for Baseline:\n",
    "rmse_train_mean = round(mean_squared_error(y_train.quality,\n",
    "                                y_train.target_pred_mean) ** (.5),1)\n",
    "rmse_validate_mean = round(mean_squared_error(y_validate.quality, y_validate.target_pred_mean) ** (0.5),1)\n",
    "\n",
    "rmse_train_med = mean_squared_error(y_train.quality, y_train.target_pred_median) ** .5\n",
    "rmse_validate_med = mean_squared_error(y_validate.quality, y_validate.target_pred_median) ** (0.5)\n",
    "\n",
    "print(f\"\"\"RMSE using Mean\n",
    "Train/In-Sample: {round(rmse_train_mean, 1)} \n",
    "Validate/Out-of-Sample: {round(rmse_validate_mean, 1)}\"\"\")\n",
    "print(f\"\"\"RMSE using Median\n",
    "Train/In-Sample: {round(rmse_train_med, 2)} \n",
    "Validate/Out-of-Sample: {round(rmse_validate_med, 2)}\"\"\")\n",
    "\n",
    "# USE MEAN as BASELINE"
   ]
  },
  {
   "cell_type": "code",
   "execution_count": null,
   "id": "fabd0551",
   "metadata": {},
   "outputs": [],
   "source": [
    "# Drop Median...remove unnecessary clutter\n",
    "y_train = y_train.drop(columns='target_pred_median')"
   ]
  },
  {
   "cell_type": "markdown",
   "id": "81ec0902",
   "metadata": {},
   "source": [
    "## K-BEST / RFE"
   ]
  },
  {
   "cell_type": "code",
   "execution_count": null,
   "id": "0a10545b",
   "metadata": {},
   "outputs": [],
   "source": [
    "# K-BEST results:\n",
    "# make the thing\n",
    "kbest = SelectKBest(f_regression,k=4)\n",
    "# fit the thing\n",
    "_ = kbest.fit(X_train_scaled,y_train.quality)\n",
    "# statistical f-value:\n",
    "kbest.scores_\n",
    "X_train_scaled.columns[kbest.get_support()]"
   ]
  },
  {
   "cell_type": "code",
   "execution_count": null,
   "id": "25ebff3c",
   "metadata": {},
   "outputs": [],
   "source": [
    "y_train"
   ]
  },
  {
   "cell_type": "code",
   "execution_count": null,
   "id": "6d883600",
   "metadata": {},
   "outputs": [],
   "source": [
    "# RFE results:\n",
    "# establish a model for RFE to use\n",
    "model = LinearRegression()\n",
    "# make an RFE thing\n",
    "rfe = RFE(model, n_features_to_select=4)\n",
    "# fit the RFE thing\n",
    "rfe.fit(X_train_scaled,y_train.quality)\n",
    "rfe_df = pd.DataFrame({\n",
    "    'rfe_ranking':rfe.ranking_\n",
    "}, index=X_train_scaled.columns)\n",
    "rfe_df.sort_values('rfe_ranking')"
   ]
  },
  {
   "cell_type": "markdown",
   "id": "06d8d208",
   "metadata": {},
   "source": [
    "## METRIC_DF"
   ]
  },
  {
   "cell_type": "code",
   "execution_count": null,
   "id": "b9b3031f",
   "metadata": {},
   "outputs": [],
   "source": [
    "# build a quick df to compare results...will append to this df as needed\n",
    "metric_df = pd.DataFrame(data=[\n",
    "    {'model': 'mean_baseline',\n",
    "     'RMSE_train': rmse_train_mean,\n",
    "     'RMSE_validate': rmse_validate_mean,\n",
    "     'R2_validate': explained_variance_score(y_validate.quality,\n",
    "                                             y_validate.target_pred_mean)\n",
    "    }\n",
    "]\n",
    ")\n",
    "metric_df"
   ]
  },
  {
   "cell_type": "markdown",
   "id": "89812f43",
   "metadata": {},
   "source": [
    "## MODEL 1 OLS\n",
    "- volatile_acidity, alcohol, density"
   ]
  },
  {
   "cell_type": "code",
   "execution_count": null,
   "id": "d51f1969",
   "metadata": {},
   "outputs": [],
   "source": [
    "#define features for MODEL 1:\n",
    "model_1_feats = ['alcohol',\n",
    "                'volatile_acidity',\n",
    "                'density']\n",
    "X_train_1 = X_train[model_1_feats]\n",
    "X_validate_1 = X_validate[model_1_feats]\n",
    "X_test_1 = X_test[model_1_feats]\n",
    "\n",
    "# MAKE THE THING: create the model object\n",
    "lm = LinearRegression()\n",
    "# FIT THE THING: fit the model to training data\n",
    "OLSmodel = lm.fit(X_train_1, y_train.quality)\n",
    "# USE THE THING: make a prediction\n",
    "y_train['target_pred_lm'] = lm.predict(X_train_1)\n",
    "#Evaluate: RMSE\n",
    "rmse_train = mean_squared_error(y_train.quality, y_train.target_pred_lm)**(1/2)\n",
    "# predict validate\n",
    "y_validate['target_pred_lm'] = lm.predict(X_validate_1)\n",
    "# evaluate: RMSE\n",
    "rmse_validate = mean_squared_error(y_validate.quality, y_validate.target_pred_lm)**(1/2)\n",
    "print(f\"\"\"RMSE for OLS using LinearRegression\n",
    "Training/In-Sample:  {rmse_train} \n",
    "Validation/Out-of-Sample: {rmse_validate}\"\"\")"
   ]
  },
  {
   "cell_type": "code",
   "execution_count": null,
   "id": "6e9033c2",
   "metadata": {
    "scrolled": true
   },
   "outputs": [],
   "source": [
    "#Append this to the metric_df\n",
    "metric_df = metric_df.append(\n",
    "    {'model': 'OLS Model 1 (base feats)',\n",
    "     'RMSE_train': round(rmse_train,2),\n",
    "     'RMSE_validate': round(rmse_validate,2),\n",
    "     'R2_validate': round(explained_variance_score(y_validate.quality,\n",
    "                                             y_validate.target_pred_lm),4)\n",
    "    }, ignore_index=True)\n",
    "metric_df"
   ]
  },
  {
   "cell_type": "code",
   "execution_count": null,
   "id": "2a4be7cf",
   "metadata": {},
   "outputs": [],
   "source": []
  },
  {
   "cell_type": "markdown",
   "id": "3e3fe04d",
   "metadata": {},
   "source": [
    "## MODEL 1 OLS\n",
    "- add wine_color"
   ]
  },
  {
   "cell_type": "code",
   "execution_count": null,
   "id": "c2d87b03",
   "metadata": {},
   "outputs": [],
   "source": [
    "#define features for MODEL 1:\n",
    "model_1_feats = ['alcohol',\n",
    "                'volatile_acidity',\n",
    "                'density',\n",
    "                'wine_color']\n",
    "X_train_1 = X_train[model_1_feats]\n",
    "X_validate_1 = X_validate[model_1_feats]\n",
    "X_test_1 = X_test[model_1_feats]\n",
    "\n",
    "# MAKE THE THING: create the model object\n",
    "lm = LinearRegression()\n",
    "# FIT THE THING: fit the model to training data\n",
    "OLSmodel = lm.fit(X_train_1, y_train.quality)\n",
    "# USE THE THING: make a prediction\n",
    "y_train['target_pred_lm'] = lm.predict(X_train_1)\n",
    "#Evaluate: RMSE\n",
    "rmse_train = mean_squared_error(y_train.quality, y_train.target_pred_lm)**(1/2)\n",
    "# predict validate\n",
    "y_validate['target_pred_lm'] = lm.predict(X_validate_1)\n",
    "# evaluate: RMSE\n",
    "rmse_validate = mean_squared_error(y_validate.quality, y_validate.target_pred_lm)**(1/2)\n",
    "print(f\"\"\"RMSE for OLS using LinearRegression\n",
    "Training/In-Sample:  {rmse_train} \n",
    "Validation/Out-of-Sample: {rmse_validate}\"\"\")"
   ]
  },
  {
   "cell_type": "code",
   "execution_count": null,
   "id": "9822fac5",
   "metadata": {},
   "outputs": [],
   "source": [
    "#Append this to the metric_df\n",
    "metric_df = metric_df.append(\n",
    "    {'model': 'OLS Model 1 (base + color)',\n",
    "     'RMSE_train': round(rmse_train,2),\n",
    "     'RMSE_validate': round(rmse_validate,2),\n",
    "     'R2_validate': round(explained_variance_score(y_validate.quality,\n",
    "                                             y_validate.target_pred_lm),4)\n",
    "    }, ignore_index=True)\n",
    "metric_df"
   ]
  },
  {
   "cell_type": "code",
   "execution_count": null,
   "id": "067d7d62",
   "metadata": {},
   "outputs": [],
   "source": []
  },
  {
   "cell_type": "markdown",
   "id": "3892b467",
   "metadata": {},
   "source": [
    "## MODEL 1 OLS\n",
    "- add chlorides"
   ]
  },
  {
   "cell_type": "code",
   "execution_count": null,
   "id": "40b7c6bd",
   "metadata": {},
   "outputs": [],
   "source": [
    "#define features for MODEL 1:\n",
    "model_1_feats = ['alcohol',\n",
    "                'volatile_acidity',\n",
    "                'density',\n",
    "                'wine_color',\n",
    "                'chlorides']\n",
    "X_train_1 = X_train[model_1_feats]\n",
    "X_validate_1 = X_validate[model_1_feats]\n",
    "X_test_1 = X_test[model_1_feats]\n",
    "\n",
    "# MAKE THE THING: create the model object\n",
    "lm = LinearRegression()\n",
    "# FIT THE THING: fit the model to training data\n",
    "OLSmodel = lm.fit(X_train_1, y_train.quality)\n",
    "# USE THE THING: make a prediction\n",
    "y_train['target_pred_lm'] = lm.predict(X_train_1)\n",
    "#Evaluate: RMSE\n",
    "rmse_train = mean_squared_error(y_train.quality, y_train.target_pred_lm)**(1/2)\n",
    "# predict validate\n",
    "y_validate['target_pred_lm'] = lm.predict(X_validate_1)\n",
    "# evaluate: RMSE\n",
    "rmse_validate = mean_squared_error(y_validate.quality, y_validate.target_pred_lm)**(1/2)\n",
    "print(f\"\"\"RMSE for OLS using LinearRegression\n",
    "Training/In-Sample:  {rmse_train} \n",
    "Validation/Out-of-Sample: {rmse_validate}\"\"\")"
   ]
  },
  {
   "cell_type": "code",
   "execution_count": null,
   "id": "9f25e62b",
   "metadata": {},
   "outputs": [],
   "source": [
    "#Append this to the metric_df\n",
    "metric_df = metric_df.append(\n",
    "    {'model': 'OLS Model 1 (+ chlorides)',\n",
    "     'RMSE_train': round(rmse_train,2),\n",
    "     'RMSE_validate': round(rmse_validate,2),\n",
    "     'R2_validate': round(explained_variance_score(y_validate.quality,\n",
    "                                             y_validate.target_pred_lm),4)\n",
    "    }, ignore_index=True)\n",
    "metric_df"
   ]
  },
  {
   "cell_type": "code",
   "execution_count": null,
   "id": "008d9aab",
   "metadata": {},
   "outputs": [],
   "source": []
  },
  {
   "cell_type": "markdown",
   "id": "9053dbab",
   "metadata": {},
   "source": [
    "## MODEL 1 OLS\n",
    "- add sulphates"
   ]
  },
  {
   "cell_type": "code",
   "execution_count": null,
   "id": "65f77a13",
   "metadata": {},
   "outputs": [],
   "source": [
    "#define features for MODEL 1:\n",
    "model_1_feats = ['alcohol',\n",
    "                'volatile_acidity',\n",
    "                'density',\n",
    "                'wine_color',\n",
    "                'chlorides',\n",
    "                'sulphates']\n",
    "X_train_1 = X_train[model_1_feats]\n",
    "X_validate_1 = X_validate[model_1_feats]\n",
    "X_test_1 = X_test[model_1_feats]\n",
    "\n",
    "# MAKE THE THING: create the model object\n",
    "lm = LinearRegression()\n",
    "# FIT THE THING: fit the model to training data\n",
    "OLSmodel = lm.fit(X_train_1, y_train.quality)\n",
    "# USE THE THING: make a prediction\n",
    "y_train['target_pred_lm'] = lm.predict(X_train_1)\n",
    "#Evaluate: RMSE\n",
    "rmse_train = mean_squared_error(y_train.quality, y_train.target_pred_lm)**(1/2)\n",
    "# predict validate\n",
    "y_validate['target_pred_lm'] = lm.predict(X_validate_1)\n",
    "# evaluate: RMSE\n",
    "rmse_validate = mean_squared_error(y_validate.quality, y_validate.target_pred_lm)**(1/2)\n",
    "print(f\"\"\"RMSE for OLS using LinearRegression\n",
    "Training/In-Sample:  {rmse_train} \n",
    "Validation/Out-of-Sample: {rmse_validate}\"\"\")"
   ]
  },
  {
   "cell_type": "code",
   "execution_count": null,
   "id": "c51fa281",
   "metadata": {},
   "outputs": [],
   "source": [
    "#Append this to the metric_df\n",
    "metric_df = metric_df.append(\n",
    "    {'model': 'OLS Model 1 (+ sulphates)',\n",
    "     'RMSE_train': round(rmse_train,2),\n",
    "     'RMSE_validate': round(rmse_validate,2),\n",
    "     'R2_validate': round(explained_variance_score(y_validate.quality,\n",
    "                                             y_validate.target_pred_lm),4)\n",
    "    }, ignore_index=True)\n",
    "metric_df"
   ]
  },
  {
   "cell_type": "code",
   "execution_count": null,
   "id": "e2191a2c",
   "metadata": {},
   "outputs": [],
   "source": []
  },
  {
   "cell_type": "code",
   "execution_count": null,
   "id": "d6fae2fe",
   "metadata": {},
   "outputs": [],
   "source": []
  },
  {
   "cell_type": "code",
   "execution_count": null,
   "id": "1f36545d",
   "metadata": {},
   "outputs": [],
   "source": [
    "#define features for MODEL 1:\n",
    "model_1_feats = ['alcohol',\n",
    "                'volatile_acidity',\n",
    "                'density',\n",
    "                'wine_color',\n",
    "                'chlorides',\n",
    "                'sulphates']\n",
    "X_train_1 = X_train_scaled[model_1_feats]\n",
    "X_validate_1 = X_validate_scaled[model_1_feats]\n",
    "X_test_1 = X_test_scaled[model_1_feats]\n",
    "\n",
    "# MAKE THE THING: create the model object\n",
    "lm = LinearRegression()\n",
    "# FIT THE THING: fit the model to training data\n",
    "OLSmodel = lm.fit(X_train_1, y_train.quality)\n",
    "# USE THE THING: make a prediction\n",
    "y_train['target_pred_lm'] = lm.predict(X_train_1)\n",
    "#Evaluate: RMSE\n",
    "rmse_train = mean_squared_error(y_train.quality, y_train.target_pred_lm)**(1/2)\n",
    "# predict validate\n",
    "y_validate['target_pred_lm'] = lm.predict(X_validate_1)\n",
    "# evaluate: RMSE\n",
    "rmse_validate = mean_squared_error(y_validate.quality, y_validate.target_pred_lm)**(1/2)\n",
    "print(f\"\"\"RMSE for OLS using LinearRegression\n",
    "Training/In-Sample:  {rmse_train} \n",
    "Validation/Out-of-Sample: {rmse_validate}\"\"\")"
   ]
  },
  {
   "cell_type": "code",
   "execution_count": null,
   "id": "1c311c87",
   "metadata": {},
   "outputs": [],
   "source": [
    "#Append this to the metric_df\n",
    "metric_df = metric_df.append(\n",
    "    {'model': 'OLS Model 1 Scaled (+ sulphates)',\n",
    "     'RMSE_train': round(rmse_train,2),\n",
    "     'RMSE_validate': round(rmse_validate,2),\n",
    "     'R2_validate': round(explained_variance_score(y_validate.quality,\n",
    "                                             y_validate.target_pred_lm),4)\n",
    "    }, ignore_index=True)\n",
    "metric_df"
   ]
  },
  {
   "cell_type": "markdown",
   "id": "e30f7cbb",
   "metadata": {},
   "source": [
    "## MODEL 2 DTR maxDepth=7\n",
    "- volatile_acidity, alcohol, density"
   ]
  },
  {
   "cell_type": "code",
   "execution_count": null,
   "id": "abd99916",
   "metadata": {},
   "outputs": [],
   "source": [
    "model_2_feats = ['alcohol',\n",
    "                'volatile_acidity',\n",
    "                'density',\n",
    "                'wine_color',\n",
    "                'chlorides',\n",
    "                'sulphates',\n",
    "                'citric_acid']\n",
    "X_train_1 = X_train[model_2_feats]\n",
    "X_validate_1 = X_validate[model_2_feats]\n",
    "X_test_1 = X_test[model_2_feats]\n",
    "\n",
    "# Create and fit the thing\n",
    "DTRp = DecisionTreeRegressor(max_depth=5)\n",
    "DTRp.fit(X_train_1,y_train.quality)\n",
    "y_train['target_pred_DTRp'] = DTRp.predict(X_train_1)\n",
    "DTRp.predict(X_train_1)\n",
    "# evaluate: RMSE\n",
    "rmse_train = mean_squared_error(y_train.quality, y_train.target_pred_DTRp)**(1/2)\n",
    "# predict validate\n",
    "y_validate['target_pred_DTRp'] = DTRp.predict(X_validate_1)\n",
    "# evaluate: RMSE\n",
    "rmse_validate = mean_squared_error(y_validate.quality, y_validate.target_pred_DTRp)**(1/2)\n",
    "r2 = r2_score(y_train.quality,y_train.target_pred_DTRp)\n",
    "print(f\"\"\"RMSE for OLS using LinearRegression\n",
    "Training/In-Sample:  {rmse_train} \n",
    "Validation/Out-of-Sample: {rmse_validate}\n",
    "Train R2 Score: {r2}\"\"\")"
   ]
  },
  {
   "cell_type": "code",
   "execution_count": null,
   "id": "11d8bdce",
   "metadata": {
    "scrolled": false
   },
   "outputs": [],
   "source": [
    "#Append this to the metric_df\n",
    "metric_df = metric_df.append(\n",
    "    {'model': 'DTR: maxD=5 (+ citric)',\n",
    "     'RMSE_train': round(rmse_train,2),\n",
    "     'RMSE_validate': round(rmse_validate,2),\n",
    "     'R2_validate': round(explained_variance_score(y_validate.quality,\n",
    "                                             y_validate.target_pred_DTRp),4)\n",
    "    }, ignore_index=True)\n",
    "metric_df"
   ]
  },
  {
   "cell_type": "markdown",
   "id": "5cb443b0",
   "metadata": {},
   "source": [
    "## MODEL 3 RFR n_estimators=55, maxDepth= 5\n",
    "- volatile_acidity, alcohol, density"
   ]
  },
  {
   "cell_type": "code",
   "execution_count": null,
   "id": "8014203d",
   "metadata": {},
   "outputs": [],
   "source": [
    "#model_3_feats = ['alcohol',\n",
    "#                 'volatile_acidity',\n",
    "#                 'density',\n",
    "#                 'wine_color',\n",
    "#                 'chlorides',\n",
    "#                 'sulphates',\n",
    "#                 'citric_acid']\n",
    "X_train_1 = X_train\n",
    "X_validate_1 = X_validate\n",
    "X_test_1 = X_test\n",
    "\n",
    "# Create and fit the thing\n",
    "RFRp = RandomForestRegressor(n_estimators=301, max_depth=10,random_state=2013)\n",
    "RFRp.fit(X_train_1,y_train.quality)\n",
    "y_train['target_pred_RFRp'] = RFRp.predict(X_train_1)\n",
    "RFRp.predict(X_train_1)\n",
    "#Evaluate: RMSE\n",
    "rmse_train = mean_squared_error(y_train.quality, y_train.target_pred_RFRp)**(1/2)\n",
    "#REPEAT STEPS 2-3\n",
    "# predict validate\n",
    "y_validate['target_pred_RFRp'] = RFRp.predict(X_validate_1)\n",
    "# evaluate: RMSE\n",
    "rmse_validate = mean_squared_error(y_validate.quality, y_validate.target_pred_RFRp)**(1/2)\n",
    "r2 = r2_score(y_train.quality,y_train.target_pred_RFRp)\n",
    "print(f\"\"\"RMSE for OLS using LinearRegression\n",
    "Training/In-Sample:  {rmse_train} \n",
    "Validation/Out-of-Sample: {rmse_validate}\n",
    "Train R2 Score: {r2}\"\"\")\n",
    "#Append this to the metric_df\n",
    "metric_df = metric_df.append(\n",
    "    {'model': 'RFR ALL FEATS est=301, maxD=10',\n",
    "     'RMSE_train': round(rmse_train,2),\n",
    "     'RMSE_validate': round(rmse_validate,2),\n",
    "     'R2_validate': round(explained_variance_score(y_validate.quality,\n",
    "                                             y_validate.target_pred_RFRp),4)\n",
    "    }, ignore_index=True)\n",
    "\n",
    "metric_df"
   ]
  },
  {
   "cell_type": "code",
   "execution_count": null,
   "id": "70660f8c",
   "metadata": {},
   "outputs": [],
   "source": []
  },
  {
   "cell_type": "markdown",
   "id": "ce15bf92",
   "metadata": {},
   "source": [
    "## CATBOOST\n",
    "- all feats"
   ]
  },
  {
   "cell_type": "code",
   "execution_count": null,
   "id": "7a5462ec",
   "metadata": {},
   "outputs": [],
   "source": [
    "# model_4_feats = ['alcohol',\n",
    "#                 'volatile_acidity',\n",
    "#                 'density',\n",
    "#                 'wine_color',\n",
    "#                 'chlorides',\n",
    "#                 'sulphates',\n",
    "#                 'citric_acid']\n",
    "# X_train_1 = X_train[model_4_feats]\n",
    "# X_validate_1 = X_validate[model_4_feats]\n",
    "# X_test_1 = X_test[model_4_feats]\n",
    "\n",
    "# Create and fit the thing\n",
    "CATb = CatBoostRegressor(verbose=False,depth=10)\n",
    "CATb.fit(X_train_1,y_train.quality)\n",
    "y_train['target_pred_CATb'] = CATb.predict(X_train_1)\n",
    "CATb.predict(X_train_1)\n",
    "#Evaluate: RMSE\n",
    "rmse_train = mean_squared_error(y_train.quality, y_train.target_pred_CATb)**(1/2)\n",
    "#REPEAT STEPS 2-3\n",
    "# predict validate\n",
    "y_validate['target_pred_CATb'] = CATb.predict(X_validate_1)\n",
    "# evaluate: RMSE\n",
    "rmse_validate = mean_squared_error(y_validate.quality, y_validate.target_pred_CATb)**(1/2)\n",
    "r2 = r2_score(y_train.quality,y_train.target_pred_CATb)\n",
    "print(f\"\"\"RMSE for OLS using LinearRegression\n",
    "Training/In-Sample:  {rmse_train} \n",
    "Validation/Out-of-Sample: {rmse_validate}\n",
    "Train R2 Score: {r2}\"\"\")\n",
    "#Append this to the metric_df\n",
    "metric_df = metric_df.append(\n",
    "    {'model': 'CATb maxD=10 ALL FEATS',\n",
    "     'RMSE_train': round(rmse_train,2),\n",
    "     'RMSE_validate': round(rmse_validate,2),\n",
    "     'R2_validate': round(explained_variance_score(y_validate.quality,\n",
    "                                             y_validate.target_pred_CATb),4)\n",
    "    }, ignore_index=True)\n",
    "\n",
    "metric_df"
   ]
  },
  {
   "cell_type": "code",
   "execution_count": null,
   "id": "9bd6c672",
   "metadata": {},
   "outputs": [],
   "source": []
  },
  {
   "cell_type": "code",
   "execution_count": null,
   "id": "80315071",
   "metadata": {},
   "outputs": [],
   "source": []
  }
 ],
 "metadata": {
  "kernelspec": {
   "display_name": "Python 3 (ipykernel)",
   "language": "python",
   "name": "python3"
  },
  "language_info": {
   "codemirror_mode": {
    "name": "ipython",
    "version": 3
   },
   "file_extension": ".py",
   "mimetype": "text/x-python",
   "name": "python",
   "nbconvert_exporter": "python",
   "pygments_lexer": "ipython3",
   "version": "3.9.13"
  }
 },
 "nbformat": 4,
 "nbformat_minor": 5
}
